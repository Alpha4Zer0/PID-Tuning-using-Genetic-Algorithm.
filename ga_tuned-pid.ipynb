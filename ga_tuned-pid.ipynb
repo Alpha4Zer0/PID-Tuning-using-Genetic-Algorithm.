{
 "cells": [
  {
   "cell_type": "markdown",
   "metadata": {
    "deletable": false,
    "nbgrader": {
     "cell_type": "markdown",
     "checksum": "f0f8d949f6e326fb5f5192d50f55f01f",
     "grade": false,
     "grade_id": "cell-804febd04183756d",
     "locked": true,
     "schema_version": 3,
     "solution": false,
     "task": false
    }
   },
   "source": [
    "# PID Tuning using Genetic Algorithm"
   ]
  },
  {
   "cell_type": "markdown",
   "metadata": {
    "deletable": false,
    "editable": false,
    "nbgrader": {
     "cell_type": "markdown",
     "checksum": "61a0820291932d72405eae27131bacb7",
     "grade": false,
     "grade_id": "cell-6833f6c3ba8ad7c8",
     "locked": true,
     "schema_version": 3,
     "solution": false,
     "task": false
    }
   },
   "source": [
    "# Basic GA Implementation"
   ]
  },
  {
   "cell_type": "markdown",
   "metadata": {
    "nbgrader": {
     "cell_type": "markdown",
     "checksum": "328b6ed80b9332480aef0638e799152a",
     "grade": false,
     "grade_id": "cell-7f559863e3a2de36",
     "locked": true,
     "schema_version": 3,
     "solution": false,
     "task": false
    }
   },
   "source": [
    "### 1- Importing  Packages:"
   ]
  },
  {
   "cell_type": "code",
   "execution_count": 1,
   "metadata": {
    "nbgrader": {
     "cell_type": "code",
     "checksum": "f401f9edaf2078c6dc33ab5c3092798f",
     "grade": false,
     "grade_id": "cell-b0cadf992ea9bc4d",
     "locked": true,
     "schema_version": 3,
     "solution": false,
     "task": false
    }
   },
   "outputs": [],
   "source": [
    "#All required packages are imported\n",
    "import random\n",
    "import numpy as np\n",
    "import matplotlib.pyplot as plt\n",
    "import math\n",
    "%matplotlib inline"
   ]
  },
  {
   "cell_type": "markdown",
   "metadata": {
    "nbgrader": {
     "cell_type": "markdown",
     "checksum": "781f46de9381561ef33973e957b453ef",
     "grade": false,
     "grade_id": "cell-9c0c0b5b62251b81",
     "locked": true,
     "schema_version": 3,
     "solution": false,
     "task": false
    }
   },
   "source": [
    "### 2- GAString class definition\n",
    "\n",
    "Each GAString instance represents a single chromosome.\n",
    "- _n_ - represents the number of genes in the chromosome\n",
    "- _genes_ - represents the bitstring of the chromosome as an np.array of booleans"
   ]
  },
  {
   "cell_type": "code",
   "execution_count": 2,
   "metadata": {
    "nbgrader": {
     "cell_type": "code",
     "checksum": "04e6b7f277ee2377932b593741225541",
     "grade": false,
     "grade_id": "cell-65d0c65b5d05a8f9",
     "locked": true,
     "schema_version": 3,
     "solution": false,
     "task": false
    }
   },
   "outputs": [],
   "source": [
    "#Class definition..\n",
    "class GAString():\n",
    "    def __init__(self, number_of_genes, genes=None):\n",
    "        self.n = number_of_genes\n",
    "        self.genes = np.copy(genes) if genes is not None else self.randInit()\n",
    "    \n",
    "    def __str__(self):\n",
    "        return ''.join(list(map(lambda x: '1' if x else '0', self.genes)))\n",
    "    \n",
    "    def __repr__(self):\n",
    "        return f\"GAString({self.n}, genes={self.__str__()})\"\n",
    "    \n",
    "    def __lt__(self, other):\n",
    "        for b1,b2 in zip(self.genes,other.genes):\n",
    "            if b1 < b2:\n",
    "                return True\n",
    "            elif b1 > b2:\n",
    "                return False\n",
    "        return False\n",
    "    \n",
    "    def __le__(self, other):\n",
    "        return self.__lt__(other) or self.__eq__(other)\n",
    "    \n",
    "    def __ge__(self, other):\n",
    "        return self.__gt__(other) or self.__eq__(other)\n",
    "    \n",
    "    def __gt__(self, other):\n",
    "        for b1,b2 in zip(self.genes,other.genes):\n",
    "            if b1 > b2:\n",
    "                return True\n",
    "            elif b1 < b2:\n",
    "                return False\n",
    "        return False\n",
    "    \n",
    "    def __eq__(self, other):\n",
    "        return self.n == other.n and np.array_equal(self.genes, other.genes)\n",
    "    \n",
    "    def __ne__(self, other):\n",
    "        return self.n != other.n or not np.array_equal(self.genes, other.genes)\n",
    "    \n",
    "    def randInit(self):\n",
    "        genes = np.empty(self.n, dtype=bool)\n",
    "        for i in range(self.n):\n",
    "            genes[i] = True if random.random() < 0.5 else False\n",
    "        return genes"
   ]
  },
  {
   "cell_type": "code",
   "execution_count": 6,
   "metadata": {
    "nbgrader": {
     "cell_type": "code",
     "checksum": "ea612adce3ecc32a3ab9a5b73b3420b7",
     "grade": false,
     "grade_id": "cell-44f84f100d5f0a52",
     "locked": false,
     "schema_version": 3,
     "solution": true,
     "task": false
    }
   },
   "outputs": [],
   "source": [
    "def initPop(size_pop, number_of_genes):\n",
    "    \"\"\"\n",
    "    Input:  size_pop is the size of the desired population i.e. number of chromosomes\n",
    "            number_of_genes is the number of genes in each chromosome\n",
    "    \n",
    "    Output: a list of the required number of GAStrings, representing the population\n",
    "    \n",
    "    Note: You do not need to make any random.random() calls explicitly\n",
    "          Use the class definition and functions to create the population\n",
    "    \"\"\"\n",
    "    assert size_pop > 0 and number_of_genes > 0\n",
    "    \n",
    "    # YOUR CODE HERE\n",
    "    pop_lst = []\n",
    "    for i in range(size_pop):\n",
    "        ga_string = GAString(number_of_genes)\n",
    "        pop_lst.append(ga_string)\n",
    "    return pop_lst\n",
    "    #raise NotImplementedError()"
   ]
  },
  {
   "cell_type": "code",
   "execution_count": 7,
   "metadata": {
    "deletable": false,
    "editable": false,
    "nbgrader": {
     "cell_type": "code",
     "checksum": "8c44ce592a7528e4b048a64663389cf2",
     "grade": false,
     "grade_id": "cell-f1333fa193cbb8ac",
     "locked": true,
     "schema_version": 3,
     "solution": false,
     "task": false
    }
   },
   "outputs": [
    {
     "name": "stdout",
     "output_type": "stream",
     "text": [
      "Running sample test case\n",
      "Sample test case passed\n"
     ]
    }
   ],
   "source": [
    "# do not change code here\n",
    "### SAMPLE TEST CASE\n",
    "random.seed(2)\n",
    "print(\"Running sample test case\")\n",
    "res = initPop(6, 6)\n",
    "ans = [GAString(6, genes=np.array([0,0,1,1,0,0],dtype=bool)), GAString(6, genes=np.array([0,1,0,0,0,1],dtype=bool)), \n",
    "       GAString(6, genes=np.array([1,1,0,0,0,0],dtype=bool)), GAString(6, genes=np.array([1,1,1,1,1,1],dtype=bool)), \n",
    "       GAString(6, genes=np.array([1,0,0,0,1,1],dtype=bool)), GAString(6, genes=np.array([1,1,0,0,0,1],dtype=bool))]\n",
    "assert all(a == b for a,b in zip(ans,res))\n",
    "print(\"Sample test case passed\")"
   ]
  },
  {
   "cell_type": "code",
   "execution_count": 8,
   "metadata": {
    "deletable": false,
    "nbgrader": {
     "cell_type": "code",
     "checksum": "9075f07766e632a71993ae55e75e5979",
     "grade": false,
     "grade_id": "cell-7de41a383b0af6ac",
     "locked": false,
     "schema_version": 3,
     "solution": true,
     "task": false
    }
   },
   "outputs": [],
   "source": [
    "def decodeInteger(genes):\n",
    "    \"\"\"\n",
    "    Input:  genes is an np.array of bools, i.e a bitstring\n",
    "    \n",
    "    Output: an integer, representing the decoded value of the bitstring\n",
    "    \"\"\"\n",
    "    # YOUR CODE HERE\n",
    "    n = len(genes)\n",
    "    dec_int = 0\n",
    "    for i in range(n):\n",
    "        dec_int += (2**(n-i-1))*genes[i]\n",
    "    return dec_int    \n",
    "    \n",
    "    #raise NotImplementedError()"
   ]
  },
  {
   "cell_type": "code",
   "execution_count": 9,
   "metadata": {},
   "outputs": [
    {
     "name": "stdout",
     "output_type": "stream",
     "text": [
      "Running sample test case\n",
      "Sample test case passed\n"
     ]
    }
   ],
   "source": [
    "### SAMPLE TEST CASE\n",
    "random.seed(221)\n",
    "print(\"Running sample test case\")\n",
    "res = decodeInteger(GAString(6).genes)\n",
    "ans = 58\n",
    "assert ans == res\n",
    "print(\"Sample test case passed\")"
   ]
  },
  {
   "cell_type": "code",
   "execution_count": 10,
   "metadata": {
    "deletable": false,
    "editable": false,
    "nbgrader": {
     "cell_type": "code",
     "checksum": "accae987bda83d2ea8e85917786a4746",
     "grade": true,
     "grade_id": "cell-c41089dd81b5428a",
     "locked": true,
     "points": 0.25,
     "schema_version": 3,
     "solution": false,
     "task": false
    }
   },
   "outputs": [],
   "source": [
    "# do not change code here\n",
    "# Hidden Test cases"
   ]
  },
  {
   "cell_type": "code",
   "execution_count": 11,
   "metadata": {
    "deletable": false,
    "nbgrader": {
     "cell_type": "code",
     "checksum": "51064a77f192b6785040fe1b5bf8a2ce",
     "grade": false,
     "grade_id": "cell-4a0308a1f7670e2b",
     "locked": false,
     "schema_version": 3,
     "solution": true,
     "task": false
    }
   },
   "outputs": [],
   "source": [
    "def decodeFloatRange(genes, f_min = 0.0, f_max = 100.0):\n",
    "    \"\"\"\n",
    "    Input:  genes is an np.array of bools, i.e a bitstring\n",
    "            f_min is the lower end of the range to be mapped to\n",
    "            f_max is the upper end of the range to be mapped to\n",
    "    \n",
    "    Output: an integer, representing the decoded value of the bitstring\n",
    "    \"\"\"\n",
    "    \n",
    "    # YOUR CODE HERE\n",
    "    l = len(genes) # length of bitstring\n",
    "    yint = decodeInteger(genes)\n",
    "    if l == 0:\n",
    "        x = yint\n",
    "    else:\n",
    "        x = yint / (2**(l) - 1)\n",
    "        f = f_min + x * (f_max-f_min)\n",
    "        return f\n",
    "    #raise NotImplementedError()"
   ]
  },
  {
   "cell_type": "code",
   "execution_count": 13,
   "metadata": {
    "nbgrader": {
     "cell_type": "code",
     "checksum": "f899eebfa8f5145def8e7a084d275dcd",
     "grade": false,
     "grade_id": "cell-e9d6a561cc34af08",
     "locked": true,
     "schema_version": 3,
     "solution": false,
     "task": false
    }
   },
   "outputs": [
    {
     "name": "stdout",
     "output_type": "stream",
     "text": [
      "Running sample test case\n",
      "Sample test case passed\n"
     ]
    }
   ],
   "source": [
    "### SAMPLE TEST CASE\n",
    "random.seed(222)\n",
    "print(\"Running sample test case\")\n",
    "res = decodeFloatRange(GAString(6).genes, 23, 32)\n",
    "ans = 27.285714285714285\n",
    "assert ans == res\n",
    "print(\"Sample test case passed\")"
   ]
  },
  {
   "cell_type": "code",
   "execution_count": 14,
   "metadata": {
    "deletable": false,
    "editable": false,
    "nbgrader": {
     "cell_type": "code",
     "checksum": "b1051d843718f695d2c3845f56a925d9",
     "grade": true,
     "grade_id": "cell-054f7543523cb1b6",
     "locked": true,
     "points": 0.5,
     "schema_version": 3,
     "solution": false,
     "task": false
    }
   },
   "outputs": [],
   "source": [
    "# do not change code here\n",
    "# Hidden Test cases"
   ]
  },
  {
   "cell_type": "code",
   "execution_count": 15,
   "metadata": {
    "deletable": false,
    "nbgrader": {
     "cell_type": "code",
     "checksum": "a927dedbfffd7811c287d0012ed76470",
     "grade": false,
     "grade_id": "cell-6c5e7044ebdb3d42",
     "locked": false,
     "schema_version": 3,
     "solution": true,
     "task": false
    }
   },
   "outputs": [],
   "source": [
    "def decodeFloatIEEE(genes):\n",
    "    \"\"\"\n",
    "    Input:  genes is an np.array of bools, i.e a bitstring\n",
    "    \n",
    "    Output: a floating point value, representing the decoded value of the bitstring\n",
    "    \"\"\"\n",
    "    \n",
    "    # YOUR CODE HERE\n",
    "    l = len(genes)\n",
    "    sign = genes[0]\n",
    "    exp = genes[1:9]\n",
    "    mantissa = genes[9:]\n",
    "    mlst = []\n",
    "    lm = len(mantissa)\n",
    "    for i in range(lm):\n",
    "        m = float(mantissa[i])/2**23\n",
    "        mlst.append(m)\n",
    "    m2 = decodeInteger(mlst)\n",
    "    bin_exp = decodeInteger(exp)\n",
    "    x = bin_exp - 127\n",
    "    f = ((-1)**(sign))*(1+m2)*math.pow(2,x)\n",
    "    return f\n",
    "    #raise NotImplementedError()"
   ]
  },
  {
   "cell_type": "code",
   "execution_count": 16,
   "metadata": {
    "deletable": false,
    "editable": false,
    "nbgrader": {
     "cell_type": "code",
     "checksum": "96a5a3f07d5198c3f7445395523fa146",
     "grade": false,
     "grade_id": "cell-509fbd14cba186a5",
     "locked": true,
     "schema_version": 3,
     "solution": false,
     "task": false
    }
   },
   "outputs": [
    {
     "name": "stdout",
     "output_type": "stream",
     "text": [
      "Running sample test case\n",
      "Sample test case passed\n"
     ]
    }
   ],
   "source": [
    "# do not change code here\n",
    "### SAMPLE TEST CASE\n",
    "random.seed(223)\n",
    "print(\"Running sample test case\")\n",
    "res = decodeFloatIEEE(GAString(32).genes)\n",
    "ans = -3.801286575128576e+19\n",
    "assert np.isclose(ans,res)\n",
    "print(\"Sample test case passed\")"
   ]
  },
  {
   "cell_type": "code",
   "execution_count": 17,
   "metadata": {
    "deletable": false,
    "editable": false,
    "nbgrader": {
     "cell_type": "code",
     "checksum": "6b9d6421edb11a0cb50d59a1c3671161",
     "grade": true,
     "grade_id": "cell-31a39e22112dada4",
     "locked": true,
     "points": 0.5,
     "schema_version": 3,
     "solution": false,
     "task": false
    }
   },
   "outputs": [],
   "source": [
    "# do not change code here\n",
    "# Hidden Test cases"
   ]
  },
  {
   "cell_type": "markdown",
   "metadata": {
    "nbgrader": {
     "cell_type": "markdown",
     "checksum": "7659b775a30883798bba31fc85c0b89f",
     "grade": false,
     "grade_id": "cell-56e7d7abc4a0a383",
     "locked": true,
     "schema_version": 3,
     "solution": false,
     "task": false
    }
   },
   "source": [
    "### 3- Fitness functions\n",
    "\n",
    "#### 3.1 getFitness1 \n",
    "This function counts the number of 1's in the bitstring of the chromosome and returns it as the fitness."
   ]
  },
  {
   "cell_type": "code",
   "execution_count": 18,
   "metadata": {
    "deletable": false,
    "nbgrader": {
     "cell_type": "code",
     "checksum": "451033b89ddc777ec47e5564c9f2364b",
     "grade": false,
     "grade_id": "cell-64e52d1648f2c2b0",
     "locked": false,
     "schema_version": 3,
     "solution": true,
     "task": false
    }
   },
   "outputs": [],
   "source": [
    "def getFitness1(dude):\n",
    "    \"\"\"\n",
    "    Input:  dude is a GAString object i.e. an individual chromosome\n",
    "    \n",
    "    Output: the fitness, as specified above in section 3.1\n",
    "    \"\"\"\n",
    "    \n",
    "    # YOUR CODE HERE\n",
    "    num_1s = 0\n",
    "    g = dude.genes\n",
    "    for b in g:\n",
    "        if b == True:\n",
    "            num_1s+=1\n",
    "    return num_1s\n",
    "    #raise NotImplementedError()"
   ]
  },
  {
   "cell_type": "code",
   "execution_count": 19,
   "metadata": {
    "deletable": false,
    "editable": false,
    "nbgrader": {
     "cell_type": "code",
     "checksum": "b1e308f4237898ab50c31036e78d8e1c",
     "grade": false,
     "grade_id": "cell-723eeb729f36cb90",
     "locked": true,
     "schema_version": 3,
     "solution": false,
     "task": false
    }
   },
   "outputs": [
    {
     "name": "stdout",
     "output_type": "stream",
     "text": [
      "Running sample test case\n",
      "Sample test case passed\n"
     ]
    }
   ],
   "source": [
    "# do not change code here\n",
    "### SAMPLE TEST CASE\n",
    "random.seed(31)\n",
    "print(\"Running sample test case\")\n",
    "res = getFitness1(GAString(6))\n",
    "ans = 5\n",
    "assert ans == res\n",
    "print(\"Sample test case passed\")"
   ]
  },
  {
   "cell_type": "code",
   "execution_count": 20,
   "metadata": {
    "deletable": false,
    "editable": false,
    "nbgrader": {
     "cell_type": "code",
     "checksum": "9f28efa39024bba2ec087e845cb38ae2",
     "grade": true,
     "grade_id": "cell-a5f3f71043c0d71b",
     "locked": true,
     "points": 0.5,
     "schema_version": 3,
     "solution": false,
     "task": false
    }
   },
   "outputs": [],
   "source": [
    "# do not change code here\n",
    "# Hidden Test cases"
   ]
  },
  {
   "cell_type": "markdown",
   "metadata": {
    "nbgrader": {
     "cell_type": "markdown",
     "checksum": "8ada615e54cc9e05ef080e69881cd0bb",
     "grade": false,
     "grade_id": "cell-1966beeb5ebc2044",
     "locked": true,
     "schema_version": 3,
     "solution": false,
     "task": false
    }
   },
   "source": [
    "#### 3.2 getFitnessTarget \n",
    "\n",
    "This function converts the bitstring into an integer by treating it as a binary number and assigns a fitness score equal to the negative of the absolute difference of the chromosome and a fixed target integer.\n",
    "\n",
    "For e.g.\n",
    "\n",
    "101010 evaluates to 32 + 8 + 2 = 42<br>\n",
    "_target_ = 69<br>\n",
    "_fitness_ = - |69 - 42| = -27<br>\n",
    "\n",
    "100101001 evaluates to 256 + 32 + 8 + 1 = 297<br>\n",
    "_target_ = 420<br>\n",
    "_fitness_ = - |420 - 297| = -123<br>"
   ]
  },
  {
   "cell_type": "code",
   "execution_count": 21,
   "metadata": {
    "deletable": false,
    "nbgrader": {
     "cell_type": "code",
     "checksum": "3d4df28d9521ce56a4fe09a5c2616963",
     "grade": false,
     "grade_id": "cell-4ff4dc7184df4250",
     "locked": false,
     "schema_version": 3,
     "solution": true,
     "task": false
    }
   },
   "outputs": [],
   "source": [
    "def getFitnessTarget(dude, target=343):\n",
    "    \"\"\"\n",
    "    Input:  dude is a GAString object i.e. an individual chromosome\n",
    "            target is the target integer\n",
    "    \n",
    "    Output: the fitness, as specified above in section 3.2\n",
    "    \"\"\"\n",
    "    \n",
    "    # YOUR CODE HERE\n",
    "    return -abs(decodeInteger(dude.genes)-target)\n",
    "    #raise NotImplementedError()"
   ]
  },
  {
   "cell_type": "code",
   "execution_count": 22,
   "metadata": {
    "nbgrader": {
     "cell_type": "code",
     "checksum": "b19ce039191289ebfaff3cef8194ab90",
     "grade": false,
     "grade_id": "cell-0be7c10c06b44608",
     "locked": true,
     "schema_version": 3,
     "solution": false,
     "task": false
    }
   },
   "outputs": [
    {
     "name": "stdout",
     "output_type": "stream",
     "text": [
      "Running sample test case\n",
      "Sample test case passed\n"
     ]
    }
   ],
   "source": [
    "### SAMPLE TEST CASE\n",
    "random.seed(32)\n",
    "print(\"Running sample test case\")\n",
    "res = getFitnessTarget(GAString(6), 27)\n",
    "ans = -31\n",
    "assert ans == res\n",
    "print(\"Sample test case passed\")"
   ]
  },
  {
   "cell_type": "code",
   "execution_count": 23,
   "metadata": {
    "deletable": false,
    "editable": false,
    "nbgrader": {
     "cell_type": "code",
     "checksum": "e43a6b2e368b4a0c6ff6af5e93038b5c",
     "grade": true,
     "grade_id": "cell-f760ac07c8d26f5f",
     "locked": true,
     "points": 0.5,
     "schema_version": 3,
     "solution": false,
     "task": false
    }
   },
   "outputs": [],
   "source": [
    "# do not change code here\n",
    "# Hidden Test cases"
   ]
  },
  {
   "cell_type": "markdown",
   "metadata": {
    "nbgrader": {
     "cell_type": "markdown",
     "checksum": "6407a1fc071f5acc0d84391b64461f32",
     "grade": false,
     "grade_id": "cell-7bbfbcfdea44f3a3",
     "locked": true,
     "schema_version": 3,
     "solution": false,
     "task": false
    }
   },
   "source": [
    "### 4- Selection\n",
    "\n",
    "Selection is a very crucial operator in a genetic algorithm. Selection rules select the individuals, called parents, that contribute to the population at the next generation. Multiple different selection operators can be used in the same iteration as well, to produce parents which prioritise different types of fitnesses. \n",
    "\n",
    "\n",
    "#### 4.1 Best-of Selection \n",
    "The entire population and then select the top `num` candidates as our new parents, since they have a higher likelihood of sharing genes with the optimal solution. "
   ]
  },
  {
   "cell_type": "code",
   "execution_count": 24,
   "metadata": {
    "deletable": false,
    "nbgrader": {
     "cell_type": "code",
     "checksum": "94aac32e1c59e5d82e98b457068bdd42",
     "grade": false,
     "grade_id": "cell-b2df14d2d0b1c5f6",
     "locked": false,
     "schema_version": 3,
     "solution": true,
     "task": false
    }
   },
   "outputs": [],
   "source": [
    "def selectionAll(pop, num, f):\n",
    "    \"\"\"\n",
    "    Input:  pop is the list of all GAStrings in the current population\n",
    "            num is the number of individuals to be selected\n",
    "            f is the fitness function used for evaluation\n",
    "    \n",
    "    Output: a list of the required number of GAStrings\n",
    "    \n",
    "    Note: you do not have to use any random.random calls;\n",
    "          the order of strings to be returned is in decreasing order of fitness\n",
    "    \"\"\"\n",
    "    assert len(pop) > num\n",
    "    \n",
    "    # YOUR CODE HERE\n",
    "    lst = []\n",
    "    l = len(pop)\n",
    "    for i in range(l):\n",
    "        dude = pop[i]\n",
    "        tup = (f(dude),dude)\n",
    "        lst.append(tup)\n",
    "    lst2 = sorted(lst,key = lambda x: x[0],reverse = True)\n",
    "    _,b = map(list,zip(*lst2))\n",
    "    c = b[:num]\n",
    "    return c\n",
    "    #raise NotImplementedError()"
   ]
  },
  {
   "cell_type": "code",
   "execution_count": 25,
   "metadata": {
    "deletable": false,
    "editable": false,
    "nbgrader": {
     "cell_type": "code",
     "checksum": "6f66d9158d7c13ebf0072b572eb2dbee",
     "grade": false,
     "grade_id": "cell-ecd9f9c40b44b659",
     "locked": true,
     "schema_version": 3,
     "solution": false,
     "task": false
    }
   },
   "outputs": [
    {
     "name": "stdout",
     "output_type": "stream",
     "text": [
      "Running sample test case\n",
      "Sample test case passed\n"
     ]
    }
   ],
   "source": [
    "# do not change code here\n",
    "### SAMPLE TEST CASE\n",
    "random.seed(41)\n",
    "print(\"Running sample test case\")\n",
    "res = selectionAll(initPop(6,6), 2, getFitness1)\n",
    "ans = [GAString(6, genes=np.array([0,1,1,1,0,1],dtype=bool)), GAString(6, genes=np.array([1,1,1,0,0,0],dtype=bool))]\n",
    "assert all(a == b for a,b in zip(ans,res))\n",
    "res = selectionAll(initPop(6,6), 2, getFitnessTarget)\n",
    "ans = [GAString(6, genes=np.array([1,1,1,0,1,0],dtype=bool)), GAString(6, genes=np.array([1,0,1,0,1,1],dtype=bool))]\n",
    "assert all(a == b for a,b in zip(ans,res))\n",
    "print(\"Sample test case passed\")"
   ]
  },
  {
   "cell_type": "code",
   "execution_count": 26,
   "metadata": {
    "deletable": false,
    "editable": false,
    "nbgrader": {
     "cell_type": "code",
     "checksum": "f4a602ad6fc148fcf192d10ab199c759",
     "grade": true,
     "grade_id": "cell-53a9c370dd7d1988",
     "locked": true,
     "points": 0.5,
     "schema_version": 3,
     "solution": false,
     "task": false
    }
   },
   "outputs": [],
   "source": [
    "# do not change code here\n",
    "# Hidden Test cases"
   ]
  },
  {
   "cell_type": "markdown",
   "metadata": {
    "deletable": false,
    "nbgrader": {
     "cell_type": "markdown",
     "checksum": "bba465e292b06cdcaa7a04e21d31caba",
     "grade": false,
     "grade_id": "cell-e51b80302cf81107",
     "locked": true,
     "schema_version": 3,
     "solution": false,
     "task": false
    }
   },
   "source": [
    "#### 4.2 Randomized Selection\n",
    "Here, we multiply the fitness of each chromosome with a random number between 0 and 1, and then follow the same selection as before i.e. pick the top *num* candidates. This allows for a good chance of diversity in the parents while also ensuring the parent pool is likely to have good genes."
   ]
  },
  {
   "cell_type": "code",
   "execution_count": 27,
   "metadata": {
    "deletable": false,
    "nbgrader": {
     "cell_type": "code",
     "checksum": "fdaa4f98ffeffad1ac9457ec1d9f792e",
     "grade": false,
     "grade_id": "cell-048f7d237cf336fa",
     "locked": false,
     "schema_version": 3,
     "solution": true,
     "task": false
    }
   },
   "outputs": [],
   "source": [
    "def selectionRand(pop, num, f):\n",
    "    \"\"\"\n",
    "    Input:  pop is the list of all GAStrings in the current population\n",
    "            num is the number of individuals to be selected\n",
    "            f is the fitness function used for evaluation\n",
    "    \n",
    "    Output: a list of the required number of GAStrings\n",
    "    \n",
    "    Note: you have to use exactly len(pop) number of random.random calls, \n",
    "          do not use any other function from random\n",
    "    \"\"\"\n",
    "    assert len(pop) > num\n",
    "    \n",
    "    # YOUR CODE HERE\n",
    "    lst = []\n",
    "    l = len(pop)\n",
    "    for i in range(l):\n",
    "        dude = pop[i]\n",
    "        f2 = f(dude)*(random.random())\n",
    "        tup2 = (f2,dude)\n",
    "        lst.append(tup2)\n",
    "    lst2 = sorted(lst,key = lambda x: x[0],reverse = True)\n",
    "    _,b = map(list,zip(*lst2))\n",
    "    c = b[:num]\n",
    "    return c\n",
    "    \n",
    "    #raise NotImplementedError()"
   ]
  },
  {
   "cell_type": "code",
   "execution_count": 28,
   "metadata": {
    "nbgrader": {
     "cell_type": "code",
     "checksum": "cb5cdacc5168067a1e438b44e51d815b",
     "grade": false,
     "grade_id": "cell-aa2789a83bfa2b8b",
     "locked": true,
     "schema_version": 3,
     "solution": false,
     "task": false
    }
   },
   "outputs": [
    {
     "name": "stdout",
     "output_type": "stream",
     "text": [
      "Running sample test case\n",
      "Sample test case passed\n"
     ]
    }
   ],
   "source": [
    "### SAMPLE TEST CASE\n",
    "random.seed(42)\n",
    "print(\"Running sample test case\")\n",
    "res = selectionRand(initPop(6,6), 2, getFitness1)\n",
    "ans = [GAString(6, genes=np.array([1,1,0,0,1,0],dtype=bool)), GAString(6, genes=np.array([0,1,1,1,0,0],dtype=bool))]\n",
    "assert all(a == b for a,b in zip(ans,res))\n",
    "res = selectionRand(initPop(6,6), 2, getFitnessTarget)\n",
    "ans = [GAString(6, genes=np.array([1,1,1,1,1,1],dtype=bool)), GAString(6, genes=np.array([0,1,1,1,1,0],dtype=bool))]\n",
    "assert all(a == b for a,b in zip(ans,res))\n",
    "print(\"Sample test case passed\")"
   ]
  },
  {
   "cell_type": "code",
   "execution_count": 29,
   "metadata": {
    "deletable": false,
    "editable": false,
    "nbgrader": {
     "cell_type": "code",
     "checksum": "be015b48c2be0e7fcb2682ba3f451fa8",
     "grade": true,
     "grade_id": "cell-9b5591b167c7ab97",
     "locked": true,
     "points": 0.75,
     "schema_version": 3,
     "solution": false,
     "task": false
    }
   },
   "outputs": [],
   "source": [
    "# do not change code here\n",
    "# Hidden Test cases"
   ]
  },
  {
   "cell_type": "markdown",
   "metadata": {
    "nbgrader": {
     "cell_type": "markdown",
     "checksum": "d9e0fa94bc560b99b90142333aba992a",
     "grade": false,
     "grade_id": "cell-45bd4ad1c2d28676",
     "locked": true,
     "schema_version": 3,
     "solution": false,
     "task": false
    }
   },
   "source": [
    "#### 4.3 Tournament Selection \n",
    "\n",
    "This is a more randomized form of selection, although it still uses fitness to ensure that good genes are passed down. Here, random candidates are selected for a virtual tournament, and the winner of the tournament is selected. Thus, to produce the parents, multiple tournaments are held, and the candidates for each tournament are selected independently of each other. See the image below for a simulated tournament.\n",
    "\n",
    "![alt text](tournament_selection.png \"TournamentSelectionImg\")\n",
    "\n",
    "\n"
   ]
  },
  {
   "cell_type": "code",
   "execution_count": 30,
   "metadata": {
    "deletable": false,
    "nbgrader": {
     "cell_type": "code",
     "checksum": "bed99455b2654888c66028730d4379bc",
     "grade": false,
     "grade_id": "cell-067ec5d4b65f3a56",
     "locked": false,
     "schema_version": 3,
     "solution": true,
     "task": false
    }
   },
   "outputs": [],
   "source": [
    "def selectionTourney(pop, k, f):\n",
    "    \"\"\"\n",
    "    Input:  pop is the list of all GAStrings in the current population\n",
    "            k is the number of individuals in the tournament\n",
    "            f is the fitness function used for evaluation\n",
    "    \n",
    "    Output: the best chromosome in the tournament\n",
    "    \n",
    "    Note: you have to use exactly one random.sample call, \n",
    "          do not use any other function from random\n",
    "    \"\"\"\n",
    "    assert len(pop) > k\n",
    "    \n",
    "    # YOUR CODE HERE\n",
    "    lst = []\n",
    "    lst2 = []\n",
    "    selected_dudes = random.sample(pop,k=k)\n",
    "    for dude in selected_dudes:\n",
    "        tup = (f(dude),dude)\n",
    "        lst.append(tup)\n",
    "    lst2 = sorted(lst,key = lambda x: x[0],reverse = True)\n",
    "    _,b = map(list,zip(*lst2))\n",
    "    champ = max(b)\n",
    "    return champ\n",
    "    \n",
    "    #raise NotImplementedError()"
   ]
  },
  {
   "cell_type": "code",
   "execution_count": 31,
   "metadata": {
    "nbgrader": {
     "cell_type": "code",
     "checksum": "cd6c37b215bff48ea8df48641e4a8025",
     "grade": false,
     "grade_id": "cell-c4f40b575b4590d1",
     "locked": true,
     "schema_version": 3,
     "solution": false,
     "task": false
    }
   },
   "outputs": [
    {
     "name": "stdout",
     "output_type": "stream",
     "text": [
      "Running sample test case\n",
      "Sample test case passed\n"
     ]
    }
   ],
   "source": [
    "### SAMPLE TEST CASE\n",
    "random.seed(43)\n",
    "print(\"Running sample test case\")\n",
    "res = selectionTourney(initPop(6,6), 3, getFitness1)\n",
    "ans = GAString(6, genes=np.array([1,0,1,1,0,0],dtype=bool))\n",
    "assert ans == res\n",
    "res = selectionTourney(initPop(6,6), 3, getFitnessTarget)\n",
    "ans = GAString(6, genes=np.array([1,1,1,1,0,1],dtype=bool))\n",
    "assert ans == res\n",
    "print(\"Sample test case passed\")"
   ]
  },
  {
   "cell_type": "code",
   "execution_count": 32,
   "metadata": {
    "deletable": false,
    "editable": false,
    "nbgrader": {
     "cell_type": "code",
     "checksum": "49ff646be4a14cb54899ad6e5329e39e",
     "grade": true,
     "grade_id": "cell-7926e78df6836a10",
     "locked": true,
     "points": 0.5,
     "schema_version": 3,
     "solution": false,
     "task": false
    }
   },
   "outputs": [],
   "source": [
    "# do not change code here\n",
    "# Hidden Test cases"
   ]
  },
  {
   "cell_type": "code",
   "execution_count": 33,
   "metadata": {
    "deletable": false,
    "nbgrader": {
     "cell_type": "code",
     "checksum": "fc55aabcb8f23912e1c4fbf063f5de44",
     "grade": false,
     "grade_id": "cell-59e892ae8c162cb1",
     "locked": false,
     "schema_version": 3,
     "solution": true,
     "task": false
    }
   },
   "outputs": [],
   "source": [
    "def selectionTournament(pop, num, f, k=3):\n",
    "    \"\"\"\n",
    "    Input:  pop is the list of all GAStrings in the current population\n",
    "            num is the number of individuals to be selected\n",
    "            k is the number of individuals in the tournament\n",
    "            f is the fitness function used for evaluation\n",
    "    \n",
    "    Output: a list of the required number of GAStrings\n",
    "    \"\"\"\n",
    "    assert len(pop) > num\n",
    "    \n",
    "    # YOUR CODE HERE\n",
    "    parents = []\n",
    "    for i in range(num):\n",
    "        champ = selectionTourney(pop,k,f)\n",
    "        parents.append(champ)\n",
    "    return parents \n",
    "    #raise NotImplementedError()"
   ]
  },
  {
   "cell_type": "code",
   "execution_count": 34,
   "metadata": {
    "deletable": false,
    "editable": false,
    "nbgrader": {
     "cell_type": "code",
     "checksum": "5053233f6219a6c0d5f0fe12f3f9bfad",
     "grade": false,
     "grade_id": "cell-3c4e575d6a7977f1",
     "locked": true,
     "schema_version": 3,
     "solution": false,
     "task": false
    }
   },
   "outputs": [
    {
     "name": "stdout",
     "output_type": "stream",
     "text": [
      "Running sample test case\n",
      "Sample test case passed\n"
     ]
    }
   ],
   "source": [
    "# do not change code here\n",
    "### SAMPLE TEST CASE\n",
    "random.seed(43)\n",
    "print(\"Running sample test case\")\n",
    "res = selectionTournament(initPop(6,6), 2, getFitness1, 3)\n",
    "ans = [GAString(6, genes=np.array([1,0,1,1,0,0],dtype=bool)), GAString(6, genes=np.array([1,1,0,1,0,0],dtype=bool))]\n",
    "assert all(a == b for a,b in zip(ans,res))\n",
    "res = selectionTournament(initPop(6,6), 2, getFitnessTarget, 3)\n",
    "ans = [GAString(6, genes=np.array([1,1,0,1,0,0],dtype=bool)), GAString(6, genes=np.array([1,1,0,1,0,0],dtype=bool))]\n",
    "assert all(a == b for a,b in zip(ans,res))\n",
    "print(\"Sample test case passed\")"
   ]
  },
  {
   "cell_type": "code",
   "execution_count": 35,
   "metadata": {
    "deletable": false,
    "editable": false,
    "nbgrader": {
     "cell_type": "code",
     "checksum": "29d2ef3609440fc39481403e48f50be0",
     "grade": true,
     "grade_id": "cell-25a0f661c5a56a33",
     "locked": true,
     "points": 0.25,
     "schema_version": 3,
     "solution": false,
     "task": false
    }
   },
   "outputs": [],
   "source": [
    "# do not change code here\n",
    "# Hidden Test cases"
   ]
  },
  {
   "cell_type": "markdown",
   "metadata": {
    "deletable": false,
    "nbgrader": {
     "cell_type": "markdown",
     "checksum": "8657efd3b4a378da623e8b8af6e20873",
     "grade": false,
     "grade_id": "cell-f88f8836b9ab15d0",
     "locked": true,
     "schema_version": 3,
     "solution": false,
     "task": false
    }
   },
   "source": [
    "### 5- Crossover \n",
    "\n",
    "Crossover is the genetic operator which combines two or more parents to produce one or more offspring, for generating the population for the next iteration. How the genes are allowed to crossover is crucial to how effectively the genetic algorithm uses good intermediate solutions. In encodings which have certain validity constraints on the offspring, the crossover needs to be sophisticated so as to avoid a lot of invalid solutions, while also not prohibiting certain offspring from ever being produced.\n",
    "\n",
    "#### 5.1 Single Point Crossover \n",
    "\n",
    "![alt text](OnePointCrossover.svg.png \"SinglePointCrossoverImg\")\n",
    "\n",
    "Here randomly selecting a crossover point, and the two children will have the resultant spliced genes. Note that the splice point cannot be at the ends, i.e. the genes cannot be unchanged/exchanged."
   ]
  },
  {
   "cell_type": "code",
   "execution_count": 36,
   "metadata": {
    "deletable": false,
    "nbgrader": {
     "cell_type": "code",
     "checksum": "497374c145baa8bca65b855955da61a3",
     "grade": false,
     "grade_id": "cell-b2b98ce5db92caba",
     "locked": false,
     "schema_version": 3,
     "solution": true,
     "task": false
    }
   },
   "outputs": [],
   "source": [
    "def crossoverSinglePoint(dude1, dude2):\n",
    "    \"\"\"\n",
    "    Input:  dude1 is one parent\n",
    "            dude2 is the other parent\n",
    "    \n",
    "    Output: a list of two children, created by the one point crossover\n",
    "    \n",
    "    Note: you have to use exactly one random.randint call; \n",
    "          do not use any other function from random;\n",
    "          you also need to create the children, do not splice the genes of the parents;\n",
    "          Generate a random integer 'j' in the range [1, n-1], where n is no. of genes,\n",
    "          Perform crossover/swap from indices 'j' to n-1 (both inclusive)\n",
    "    \"\"\"\n",
    "    assert dude1.n == dude2.n\n",
    "    \n",
    "    # YOUR CODE HERE\n",
    "    n = dude1.n\n",
    "    j = random.randint(1,n-1)\n",
    "    #logic for swapping/crossover..\n",
    "    cp1,cp2 = dude1,dude2 #making copies for dudes\n",
    "    g1 = cp1.genes\n",
    "    g2 = cp2.genes\n",
    "    for i in range(j,n):\n",
    "        t = g1[i]\n",
    "        g1[i] = g2[i]\n",
    "        g2[i] = t\n",
    "    ch1 = GAString(n)\n",
    "    ch2 = GAString(n)\n",
    "    ch1.genes = g1\n",
    "    ch2.genes = g2\n",
    "    children = [ch1,ch2]\n",
    "    return children\n",
    "    #raise NotImplementedError()"
   ]
  },
  {
   "cell_type": "code",
   "execution_count": 37,
   "metadata": {
    "nbgrader": {
     "cell_type": "code",
     "checksum": "1a52a64d02f9cc24da9950b748b28977",
     "grade": false,
     "grade_id": "cell-a0a56495498e30c7",
     "locked": true,
     "schema_version": 3,
     "solution": false,
     "task": false
    }
   },
   "outputs": [
    {
     "name": "stdout",
     "output_type": "stream",
     "text": [
      "Running sample test case\n",
      "Sample test case passed\n"
     ]
    }
   ],
   "source": [
    "### SAMPLE TEST CASE\n",
    "random.seed(51)\n",
    "print(\"Running sample test case\")\n",
    "res = crossoverSinglePoint(GAString(6),GAString(6))\n",
    "ans = [GAString(6, genes=np.array([1,0,1,0,1,0],dtype=bool)), GAString(6, genes=np.array([0,1,0,0,0,0],dtype=bool))]\n",
    "assert all(a == b for a,b in zip(ans,res))\n",
    "print(\"Sample test case passed\")"
   ]
  },
  {
   "cell_type": "code",
   "execution_count": 38,
   "metadata": {
    "deletable": false,
    "editable": false,
    "nbgrader": {
     "cell_type": "code",
     "checksum": "2a9273e3ff641b83e831feefbdbef5a7",
     "grade": true,
     "grade_id": "cell-b1f117d4432b1ca9",
     "locked": true,
     "points": 0.5,
     "schema_version": 3,
     "solution": false,
     "task": false
    }
   },
   "outputs": [],
   "source": [
    "# do not change code here\n",
    "# Hidden Test cases"
   ]
  },
  {
   "cell_type": "markdown",
   "metadata": {
    "nbgrader": {
     "cell_type": "markdown",
     "checksum": "21ede1ef78ce1044d699b90dbe72292e",
     "grade": false,
     "grade_id": "cell-4fa3dd0cbc0de75d",
     "locked": true,
     "schema_version": 3,
     "solution": false,
     "task": false
    }
   },
   "source": [
    "#### 5.2 Two Point Crossover \n",
    "\n",
    "![alt text](TwoPointCrossover.svg.png \"TwoPointCrossoverImg\")\n",
    "\n",
    "Randomly selecting two crossover points, and the two children will have the resultant spliced genes in between the two points.<br>\n",
    "For our implementation, the crossover points will never be at the ends i.e. the two point crossover operator can never produce results like the one point crossover operator, or vice versa. The points cannot coincide as well, so the children should never get unchanged genes."
   ]
  },
  {
   "cell_type": "code",
   "execution_count": 39,
   "metadata": {
    "deletable": false,
    "nbgrader": {
     "cell_type": "code",
     "checksum": "b57c26d34ab4e7208563b075a2db74eb",
     "grade": false,
     "grade_id": "cell-98e28673b0bbdce9",
     "locked": false,
     "schema_version": 3,
     "solution": true,
     "task": false
    }
   },
   "outputs": [],
   "source": [
    "def crossoverTwoPoint(dude1, dude2):\n",
    "    \"\"\"\n",
    "    Input:  dude1 is one parent\n",
    "            dude2 is the other parent\n",
    "    \n",
    "    Output: a list of two children, created by the two point crossover\n",
    "    \n",
    "    Note: you have to use exactly one random.sample call;\n",
    "          do not use any other function from random;\n",
    "          you also need to create the children, do not splice the genes of the parents;\n",
    "          Generate random integers j1 and j2 (s.t. j1 < j2) in the range [1, n-1], where n is the no. of genes,\n",
    "          Perform crossover from indices j1 to j2-1 (both inclusive)\n",
    "    \"\"\"\n",
    "    assert dude1.n == dude2.n\n",
    "    \n",
    "    # YOUR CODE HERE\n",
    "    n = dude1.n\n",
    "    l = [*range(1,n,1)]\n",
    "    lst = random.sample(l,2)\n",
    "    lst = sorted(lst)\n",
    "    j1,j2 = lst[0],lst[1]\n",
    "    cp1,cp2 = dude1,dude2\n",
    "    g1 = cp1.genes\n",
    "    g2 = cp2.genes\n",
    "    for i in range(j1,j2):\n",
    "        t = g1[i]\n",
    "        g1[i] = g2[i]\n",
    "        g2[i] = t\n",
    "    ch1 = GAString(n)\n",
    "    ch2 = GAString(n)\n",
    "    ch1.genes = g1\n",
    "    ch2.genes = g2\n",
    "    children = [ch1,ch2]\n",
    "    return children\n",
    "    \n",
    "    #raise NotImplementedError()"
   ]
  },
  {
   "cell_type": "code",
   "execution_count": 40,
   "metadata": {
    "deletable": false,
    "editable": false,
    "nbgrader": {
     "cell_type": "code",
     "checksum": "617fd2ea0298f5fbc01a8f7a3112b262",
     "grade": false,
     "grade_id": "cell-758a8a6511688043",
     "locked": true,
     "schema_version": 3,
     "solution": false,
     "task": false
    }
   },
   "outputs": [
    {
     "name": "stdout",
     "output_type": "stream",
     "text": [
      "Running sample test case\n",
      "Sample test case passed\n"
     ]
    }
   ],
   "source": [
    "# do not change code here\n",
    "### SAMPLE TEST CASE\n",
    "random.seed(52)\n",
    "print(\"Running sample test case\")\n",
    "res = crossoverTwoPoint(GAString(6),GAString(6))\n",
    "ans = [GAString(6, genes=np.array([0,1,0,1,1,1],dtype=bool)), GAString(6, genes=np.array([0,1,0,1,0,1],dtype=bool))]\n",
    "assert all(a == b for a,b in zip(ans,res))\n",
    "print(\"Sample test case passed\")"
   ]
  },
  {
   "cell_type": "code",
   "execution_count": 41,
   "metadata": {
    "deletable": false,
    "editable": false,
    "nbgrader": {
     "cell_type": "code",
     "checksum": "dcbf232c5c4e7255fd32c036c4be83ef",
     "grade": true,
     "grade_id": "cell-5db7813c3124fd4a",
     "locked": true,
     "points": 0.5,
     "schema_version": 3,
     "solution": false,
     "task": false
    }
   },
   "outputs": [],
   "source": [
    "# do not change code here\n",
    "# Hidden Test cases"
   ]
  },
  {
   "cell_type": "markdown",
   "metadata": {
    "nbgrader": {
     "cell_type": "markdown",
     "checksum": "692aefb9b3b856450f3acaa4a9aa495a",
     "grade": false,
     "grade_id": "cell-13c10b3d04a274e6",
     "locked": true,
     "schema_version": 3,
     "solution": false,
     "task": false
    }
   },
   "source": [
    "#### 5.3 Uniform Crossover \n",
    "\n",
    "![alt text](UniformCrossover.png \"UniformCrossoverImg\")\n",
    "\n",
    "Here, the children have equal probability of inheriting a specific gene from either parent, i.e. each gene is independently passed on to either child randomly."
   ]
  },
  {
   "cell_type": "code",
   "execution_count": 42,
   "metadata": {
    "deletable": false,
    "nbgrader": {
     "cell_type": "code",
     "checksum": "9aa3abbfb7fcea6c8f81bc5cc325abc0",
     "grade": false,
     "grade_id": "cell-3f52a2bab3f0c75c",
     "locked": false,
     "schema_version": 3,
     "solution": true,
     "task": false
    }
   },
   "outputs": [],
   "source": [
    "def crossoverUniform(dude1, dude2):\n",
    "    \"\"\"\n",
    "    Input:  dude1 is one parent\n",
    "            dude2 is the other parent\n",
    "    \n",
    "    Output: a list of two children, created by the uniform crossover\n",
    "    \n",
    "    Note: you have to use exactly dude1.n number of random.random calls; \n",
    "          do not use any other function from random;\n",
    "          you also need to create the children, do not splice the genes of the parents;\n",
    "          For index j in dude1.genes, if random.random() < 0.5, then assign dude1.genes[j] to c2.genes[j],\n",
    "              else assign dude1.genes[j] to c1.genes[j]\n",
    "    \"\"\"\n",
    "    assert dude1.n == dude2.n\n",
    "    \n",
    "    # YOUR CODE HERE\n",
    "    n = dude1.n\n",
    "    ch1 = np.zeros(n)\n",
    "    ch2 = np.zeros(n)\n",
    "    for j in range(n):\n",
    "        k = random.random()\n",
    "        if k < 0.5:\n",
    "            ch2[j] = dude1.genes[j]\n",
    "            ch1[j] = dude2.genes[j]\n",
    "        elif k >= 0.5:\n",
    "            ch1[j] = dude1.genes[j]\n",
    "            ch2[j] = dude2.genes[j]\n",
    "    ch1 = GAString(n,ch1)\n",
    "    ch2 = GAString(n,ch2)\n",
    "    children_lst = [ch1,ch2]\n",
    "    return children_lst\n",
    "    #raise NotImplementedError()"
   ]
  },
  {
   "cell_type": "code",
   "execution_count": 43,
   "metadata": {
    "deletable": false,
    "editable": false,
    "nbgrader": {
     "cell_type": "code",
     "checksum": "c04b280d27e68b6c261420d7e747190d",
     "grade": false,
     "grade_id": "cell-dc57b33014ef2501",
     "locked": true,
     "schema_version": 3,
     "solution": false,
     "task": false
    }
   },
   "outputs": [
    {
     "name": "stdout",
     "output_type": "stream",
     "text": [
      "Running sample test case\n",
      "Sample test case passed\n"
     ]
    }
   ],
   "source": [
    "# do not change code here\n",
    "### SAMPLE TEST CASE\n",
    "random.seed(53)\n",
    "print(\"Running sample test case\")\n",
    "res = crossoverUniform(GAString(6),GAString(6))\n",
    "ans = [GAString(6, genes=np.array([0,0,1,1,1,0],dtype=bool)), GAString(6, genes=np.array([0,0,0,0,0,0],dtype=bool))]\n",
    "assert all(a == b for a,b in zip(ans,res))\n",
    "print(\"Sample test case passed\")"
   ]
  },
  {
   "cell_type": "code",
   "execution_count": 44,
   "metadata": {
    "deletable": false,
    "editable": false,
    "nbgrader": {
     "cell_type": "code",
     "checksum": "7f1d467deb069a2b47bee22faa3ab701",
     "grade": true,
     "grade_id": "cell-1a0e29080e033fe0",
     "locked": true,
     "points": 0.5,
     "schema_version": 3,
     "solution": false,
     "task": false
    }
   },
   "outputs": [],
   "source": [
    "# do not change code here\n",
    "# Hidden Test cases"
   ]
  },
  {
   "cell_type": "markdown",
   "metadata": {
    "nbgrader": {
     "cell_type": "markdown",
     "checksum": "d74bedf7d7fcd030f591fb66e6e9d1bc",
     "grade": false,
     "grade_id": "cell-2868106b253a18e8",
     "locked": true,
     "schema_version": 3,
     "solution": false,
     "task": false
    }
   },
   "source": [
    "### 6- Mutation \n",
    "\n",
    "Mutation is a genetic operator used to maintain genetic diversity from one generation of a population of genetic algorithm chromosomes to the next. There are many different types of mutation operators as well - single point, uniform, inversion, swap etc. Many mutation operators work on encoding with integers and floating point numbers as well.\n",
    "\n",
    "#### 6.1 Single Point Mutation \n",
    "\n",
    "![alt text](SinglePointMutation.png \"SinglePointMutationImg\")\n",
    "\n",
    "A random bit is selected and flipped. This type of mutation is used early in the algorithm to ensure diversity in solutions."
   ]
  },
  {
   "cell_type": "code",
   "execution_count": 45,
   "metadata": {
    "deletable": false,
    "nbgrader": {
     "cell_type": "code",
     "checksum": "754544691b603806ae22486c7493c085",
     "grade": false,
     "grade_id": "cell-f7467301dd567989",
     "locked": false,
     "schema_version": 3,
     "solution": true,
     "task": false
    }
   },
   "outputs": [],
   "source": [
    "def mutationSinglePoint(dude):\n",
    "    \"\"\"\n",
    "    Input:  dude is the original chromosome\n",
    "    \n",
    "    Output: a new chromosome, with one bit flipped\n",
    "    \n",
    "    Note: you have to use exactly one random.randint call, \n",
    "          do not use any other function from random;\n",
    "          you also need to create the mutated chromosome, do not mutate the genes of the original;\n",
    "          Generate a random integer 'j' in the range [0, n-1], where n is no. of genes, and flip genes[j]\n",
    "    \"\"\"\n",
    "    \n",
    "    # YOUR CODE HERE\n",
    "    n = dude.n\n",
    "    j = random.randint(0,n-1)\n",
    "    l = [c for c in dude.genes]\n",
    "    l[j] = not l[j]\n",
    "    mut_dude = GAString(n)\n",
    "    mut_dude.genes = l\n",
    "    return mut_dude\n",
    "    \n",
    "    #raise NotImplementedError()"
   ]
  },
  {
   "cell_type": "code",
   "execution_count": 46,
   "metadata": {
    "deletable": false,
    "editable": false,
    "nbgrader": {
     "cell_type": "code",
     "checksum": "aa857aecb85544cd6c50ab53343f6b1f",
     "grade": false,
     "grade_id": "cell-ae6b390f9fbdb5df",
     "locked": true,
     "schema_version": 3,
     "solution": false,
     "task": false
    }
   },
   "outputs": [
    {
     "name": "stdout",
     "output_type": "stream",
     "text": [
      "Running sample test case\n",
      "Sample test case passed\n"
     ]
    }
   ],
   "source": [
    "# do not change code here\n",
    "### SAMPLE TEST CASE\n",
    "random.seed(61)\n",
    "print(\"Running sample test case\")\n",
    "res = mutationSinglePoint(GAString(6))\n",
    "ans = GAString(6, genes=np.array([1,0,0,0,1,0],dtype=bool))\n",
    "assert ans == res\n",
    "print(\"Sample test case passed\")"
   ]
  },
  {
   "cell_type": "code",
   "execution_count": 47,
   "metadata": {
    "deletable": false,
    "editable": false,
    "nbgrader": {
     "cell_type": "code",
     "checksum": "b37428607871583723e8ce6cdfd77a96",
     "grade": true,
     "grade_id": "cell-1e0a616d737d7873",
     "locked": true,
     "points": 0.5,
     "schema_version": 3,
     "solution": false,
     "task": false
    }
   },
   "outputs": [],
   "source": [
    "# do not change code here\n",
    "# Hidden Test cases"
   ]
  },
  {
   "cell_type": "markdown",
   "metadata": {
    "nbgrader": {
     "cell_type": "markdown",
     "checksum": "0bffde0a973be4f5544b9d6082674cdd",
     "grade": false,
     "grade_id": "cell-b9a9cee55d87d611",
     "locked": true,
     "schema_version": 3,
     "solution": false,
     "task": false
    }
   },
   "source": [
    "#### 6.2 Uniform Mutation \n",
    "\n",
    "![alt text](UniformMutation.png \"UniformMutationImg\")\n",
    "\n",
    "Mutation occurs during evolution according to a user-definable mutation probability. For each bit, the bit is flipped if a random number generated is less than the probability specified. This probability should be set low. If it is set too high, the algorithm will turn into a primitive random search. "
   ]
  },
  {
   "cell_type": "code",
   "execution_count": 48,
   "metadata": {
    "deletable": false,
    "nbgrader": {
     "cell_type": "code",
     "checksum": "4c83dfe1d7827b330746e0f70682bd09",
     "grade": false,
     "grade_id": "cell-a95c76aab5a0fc1e",
     "locked": false,
     "schema_version": 3,
     "solution": true,
     "task": false
    }
   },
   "outputs": [],
   "source": [
    "def mutationUniform(dude, prob=0.05):\n",
    "    \"\"\"\n",
    "    Input:  dude is the original chromosome\n",
    "            prob is the probability of flipping an individual bit\n",
    "    \n",
    "    Output: a new chromosome, after applying uniform mutation\n",
    "    \n",
    "    Note: you have to use exactly dude.n number of random.random call;\n",
    "          do not use any other function from random;\n",
    "          you also need to create the mutated chromosome, do not mutate the genes of the original;\n",
    "          For each index j in dude.genes, mutate it if random.random() < prob.\n",
    "    \"\"\"\n",
    "    assert 0 <= prob <= 1\n",
    "    \n",
    "    # YOUR CODE HERE\n",
    "    n = dude.n\n",
    "    mut_dude = GAString(n)\n",
    "    l = [c for c in dude.genes]\n",
    "    for j in range(n):\n",
    "        if random.random() < prob:\n",
    "            l[j] = not l[j]\n",
    "    mut_dude.genes = l\n",
    "    return mut_dude\n",
    "    \n",
    "    #raise NotImplementedError()"
   ]
  },
  {
   "cell_type": "code",
   "execution_count": 50,
   "metadata": {
    "deletable": false,
    "editable": false,
    "nbgrader": {
     "cell_type": "code",
     "checksum": "aafaa794bb89bf9e09921d7aff2ca7e3",
     "grade": false,
     "grade_id": "cell-6ec97cbf168e2ea5",
     "locked": true,
     "schema_version": 3,
     "solution": false,
     "task": false
    }
   },
   "outputs": [
    {
     "name": "stdout",
     "output_type": "stream",
     "text": [
      "Running sample test case\n",
      "Sample test case passed\n"
     ]
    }
   ],
   "source": [
    "# do not change code here\n",
    "### SAMPLE TEST CASE\n",
    "random.seed(62)\n",
    "print(\"Running sample test case\")\n",
    "res = mutationUniform(GAString(6),0.04)\n",
    "ans = GAString(6, genes=np.array([0,1,0,1,1,0],dtype=bool))\n",
    "assert ans == res\n",
    "print(\"Sample test case passed\")"
   ]
  },
  {
   "cell_type": "code",
   "execution_count": 51,
   "metadata": {
    "deletable": false,
    "editable": false,
    "nbgrader": {
     "cell_type": "code",
     "checksum": "5fdb638886ce978863385e5038186389",
     "grade": true,
     "grade_id": "cell-71f2ccdd6ed214af",
     "locked": true,
     "points": 0.5,
     "schema_version": 3,
     "solution": false,
     "task": false
    }
   },
   "outputs": [],
   "source": [
    "# do not change code here\n",
    "# Hidden Test cases"
   ]
  },
  {
   "cell_type": "markdown",
   "metadata": {
    "nbgrader": {
     "cell_type": "markdown",
     "checksum": "2ff30aece8f07f52f1f21762a4f3a253",
     "grade": false,
     "grade_id": "cell-d2dffdce0bcf7f93",
     "locked": true,
     "schema_version": 3,
     "solution": false,
     "task": false
    }
   },
   "source": [
    "#### 6.3 Inversion Mutation\n",
    "![alt text](InversionMutation.png \"InversionMutationImg\")\n",
    "\n",
    "We need to select two random points in the chromosome, and invert the bits in between. See the picture above for clarity. Note that the entire chromosome can be inverted as well. "
   ]
  },
  {
   "cell_type": "code",
   "execution_count": 52,
   "metadata": {
    "deletable": false,
    "nbgrader": {
     "cell_type": "code",
     "checksum": "15c05c0ce8b9298a121fe401a43cd652",
     "grade": false,
     "grade_id": "cell-1caa1055461416d8",
     "locked": false,
     "schema_version": 3,
     "solution": true,
     "task": false
    }
   },
   "outputs": [],
   "source": [
    "def mutationInversion(dude):\n",
    "    \"\"\"\n",
    "    Input:  dude is the original chromosome\n",
    "    \n",
    "    Output: a new chromosome, after applying inversion mutation\n",
    "    \n",
    "    Note: you have to use exactly one random.sample call; \n",
    "          the range generated has to be inverted inclusive of the ends;\n",
    "          do not use any other function from random;\n",
    "          you also need to create the mutated chromosome, do not mutate the genes of the original;\n",
    "          Generate random integers j1 and j2 (s.t. j1 < j2) in the range [0, n-1], where n is the no. of genes,\n",
    "          Invert the bits from indices j1 to j2, including the ends\n",
    "    \"\"\"\n",
    "    # YOUR CODE HERE\n",
    "    n = dude.n\n",
    "    l1 = [*range(0,n,1)]\n",
    "    lst = random.sample(l1,k=2)\n",
    "    lst.sort()\n",
    "    j1,j2 = lst[0],lst[1]\n",
    "    mut_dude = GAString(n)\n",
    "    l = [c for c in dude.genes]\n",
    "    for j in range(j1,j2+1):\n",
    "        l[j] = not l[j]\n",
    "    mut_dude.genes = l\n",
    "    return mut_dude\n",
    "    #raise NotImplementedError()"
   ]
  },
  {
   "cell_type": "code",
   "execution_count": 53,
   "metadata": {
    "deletable": false,
    "editable": false,
    "nbgrader": {
     "cell_type": "code",
     "checksum": "434e052a5946f37295f19c6b05f45c4b",
     "grade": false,
     "grade_id": "cell-8792aff4b76d6214",
     "locked": true,
     "schema_version": 3,
     "solution": false,
     "task": false
    }
   },
   "outputs": [
    {
     "name": "stdout",
     "output_type": "stream",
     "text": [
      "Running sample test case\n",
      "Sample test case passed\n"
     ]
    }
   ],
   "source": [
    "# do not change code here\n",
    "### SAMPLE TEST CASE\n",
    "random.seed(63)\n",
    "print(\"Running sample test case\")\n",
    "res = mutationInversion(GAString(7))\n",
    "ans = GAString(7, genes=np.array([1,0,1,1,1,0,1],dtype=bool))\n",
    "assert ans == res\n",
    "print(\"Sample test case passed\")"
   ]
  },
  {
   "cell_type": "code",
   "execution_count": 54,
   "metadata": {
    "deletable": false,
    "editable": false,
    "nbgrader": {
     "cell_type": "code",
     "checksum": "d4e806d69891cb3a1200238cfd18bc24",
     "grade": true,
     "grade_id": "cell-b68cfa0e793bf187",
     "locked": true,
     "points": 0.75,
     "schema_version": 3,
     "solution": false,
     "task": false
    }
   },
   "outputs": [],
   "source": [
    "# do not change code here\n",
    "# Hidden Test cases"
   ]
  },
  {
   "cell_type": "markdown",
   "metadata": {
    "nbgrader": {
     "cell_type": "markdown",
     "checksum": "5f3c790c3a79e61b977ecc2db172e37b",
     "grade": false,
     "grade_id": "cell-fd5b9383c1800532",
     "locked": true,
     "schema_version": 3,
     "solution": false,
     "task": false
    }
   },
   "source": [
    "### Single Iteration \n",
    "\n",
    "Finally, we have all the tools needed for a single iteration of a genetic algorithm. Now to actually implement the entire thing. Given below is a template for the _singleIteration_ function, where we can change everything, from the sizes of the elite group to the mutation operator itself,\n",
    "\n",
    "Steps followed for constructing the new population - \n",
    "1. Elitism - Select the best `SIZE_ELITE` individuals to be passed on directly to the next generation. Note that these individuals will also be considered in selection in the same iteration as well.\n",
    "2. Selection - Parents will be chosen according to the given _selection_ function, no assumptions are to be made about the function. Treat it as a black box, with the same function signature as _selectionAll_ and _selectionRand_ i.e. the function will be called as `selection(pop, num, f)`.\n",
    "3. Crossover - New individuals will be created by treating the _crossover_ function as a black box as well. The call to be made is `crossover(dude1,dude2)`. Use consecutive individuals from the list of parents (obtained after performing selection) for each call, and do not reuse any parents. Note that it is not necessary that the crossover will return exactly 2 individuals, however it can be assumed that a list of one or more individuals will be returned.  \n",
    "4. Mutation - First of all, we will select `SIZE_POP - SIZE_ELITE - SIZE_SELECTION` worst individuals from original population (i.e. `pop`) according to the fitness function i.e. the individuals will be selected on the basis of negative of their fitness values. The same selection operator as used previously in step 2 will be applied here. Each such selected individual will be subject to mutation and its mutated version will be present in the next generation. The call which is to be made for mutation will be `mutation(dude)` [treated as a black box] and its output will be a single new individual.\n",
    "5. New population - Here,we just need to combine all the results from the previous steps i.e. elites + crossover children + mutated individuals.\n"
   ]
  },
  {
   "cell_type": "code",
   "execution_count": 55,
   "metadata": {
    "deletable": false,
    "editable": false,
    "nbgrader": {
     "cell_type": "code",
     "checksum": "666eaf04810c75b4afd99f961eaaa283",
     "grade": false,
     "grade_id": "cell-8fd810c39e6b5899",
     "locked": true,
     "schema_version": 3,
     "solution": false,
     "task": false
    }
   },
   "outputs": [],
   "source": [
    "# do not change code here\n",
    "def getBestDude(pop, f):\n",
    "    return max((f(dude),dude) for dude in pop)"
   ]
  },
  {
   "cell_type": "code",
   "execution_count": 59,
   "metadata": {
    "deletable": false,
    "nbgrader": {
     "cell_type": "code",
     "checksum": "fc499371d07466ac052135ee9eb6f7ea",
     "grade": false,
     "grade_id": "cell-57bf4a888c432054",
     "locked": false,
     "schema_version": 3,
     "solution": true,
     "task": false
    }
   },
   "outputs": [],
   "source": [
    "def singleIteration(pop,\n",
    "                    f,\n",
    "                    SIZE_POP,\n",
    "                    SIZE_ELITE,\n",
    "                    SIZE_SELECTION,\n",
    "                    selection=selectionRand,\n",
    "                    crossover=crossoverUniform,\n",
    "                    mutation=mutationUniform):\n",
    "    \"\"\"\n",
    "    Input:  pop is the list of all GAStrings in the current population\n",
    "            f is the fitness function used for evaluation\n",
    "            SIZE_POP is the number of individuals in the population\n",
    "            SIZE_ELITE is the number of elite individuals passed on directly\n",
    "            SIZE_SELECTION is number of parents to be selected\n",
    "            selection is the selection function to be used\n",
    "            crossover is the crossover function to be used\n",
    "            mutation is the mutation function to be used\n",
    "    \n",
    "    Output: a new population, after applying elitism, selection, crossover and mutation;\n",
    "            in terms of code specs, a list of GAStrings\n",
    "    \n",
    "    Note: do not use any random package function calls here directly,\n",
    "          the random calls should exist within the genetic operator functions only\n",
    "    \"\"\"\n",
    "    \n",
    "    # YOUR CODE HERE\n",
    "    elites = selectionAll(pop, SIZE_ELITE, f) #Elite individuals.\n",
    "    parents = selection(pop,SIZE_SELECTION,f) #Parents selected for crossover.\n",
    "    children = []\n",
    "    crossover_result = []\n",
    "    l = len(parents)\n",
    "    for i in range(0,l,2):\n",
    "        children = crossover(parents[i],parents[i+1])\n",
    "        crossover_result.extend(children)\n",
    "    m_size = SIZE_POP - SIZE_ELITE - SIZE_SELECTION # Number of individuals to be selected for mutation.\n",
    "    \n",
    "    \n",
    "    lst = []\n",
    "    l = len(pop)\n",
    "    \n",
    "    #**Logic for selecting worst individuals on the basis of negative of their fitness values.**\n",
    "    #As Selection function can be any of the previously defined selection functions.\n",
    "    \n",
    "    if selection == selectionRand:\n",
    "        \n",
    "        for i in range(l):\n",
    "            dude = pop[i]\n",
    "            f2 = -1*f(dude)*(random.random())\n",
    "            tup = (f2,dude)\n",
    "            lst.append(tup)\n",
    "        lst2 = sorted(lst,key = lambda x: x[0])\n",
    "        _,b = map(list,zip(*lst2))\n",
    "        c = b[:m_size]\n",
    "        m_selected = c\n",
    "        \n",
    "    elif selection == selectionAll:\n",
    "        for i in range(l):\n",
    "            dude = pop[i]\n",
    "            f2 = -1 * f(dude)\n",
    "            tup = (f2,dude)\n",
    "            lst.append(tup)\n",
    "        lst2 = sorted(lst,key = lambda x: x[0])\n",
    "        _,b = map(list,zip(*lst2))\n",
    "        c = b[:m_size]\n",
    "        m_selected = c \n",
    "        \n",
    "    elif selection == selectionTournament:\n",
    "        selected_dudes = random.sample(pop,k=3)\n",
    "        for dude in selected_dudes:\n",
    "            f2 = -1*f(dude)\n",
    "            tup = (f2,dude)\n",
    "            lst.append(tup)\n",
    "        lst2 = sorted(lst,key = lambda x: x[0])\n",
    "        _,b = map(list,zip(*lst2))\n",
    "        champ = max(b)\n",
    "        parents = []\n",
    "        for i in range(m_size):\n",
    "            parents.append(champ)\n",
    "        m_selected = parents\n",
    "    \n",
    "    # m_selected = selection(pop,m_size,f) \n",
    "    mutated = []\n",
    "    for m in m_selected:\n",
    "        dude = mutation(m)\n",
    "        mutated.append(dude)\n",
    "    new_pop = elites + crossover_result + mutated  #New population.\n",
    "    return new_pop\n",
    "    #raise NotImplementedError()"
   ]
  },
  {
   "cell_type": "code",
   "execution_count": 60,
   "metadata": {
    "deletable": false,
    "editable": false,
    "nbgrader": {
     "cell_type": "code",
     "checksum": "09c727155cf77236fef32d2c9ccc8c3e",
     "grade": false,
     "grade_id": "cell-22caf0ac4ab43250",
     "locked": true,
     "schema_version": 3,
     "solution": false,
     "task": false
    }
   },
   "outputs": [
    {
     "name": "stdout",
     "output_type": "stream",
     "text": [
      "Running sample test case\n",
      "Sample test case passed\n"
     ]
    }
   ],
   "source": [
    "# Playground\n",
    "# You can use this as a sample test case, \n",
    "# although note that the assert check is only for the best individual in each iteration\n",
    "random.seed(69)\n",
    "print(\"Running sample test case\")\n",
    "pop = initPop(20,32)\n",
    "f = getFitness1\n",
    "s0 = 20\n",
    "s1 = 4\n",
    "s2 = 16\n",
    "s = selectionRand\n",
    "c = crossoverUniform\n",
    "m = mutationInversion\n",
    "\n",
    "res = []\n",
    "ans = [GAString(32, genes=np.array([1,1,1,1,1,0,1,1,1,0,1,1,0,0,1,1,0,0,0,1,1,0,1,1,1,0,1,1,0,1,1,1],dtype=bool)),\n",
    "       GAString(32, genes=np.array([1,0,1,1,1,0,1,1,1,1,1,1,0,1,1,1,0,0,0,1,1,0,1,0,1,1,1,0,1,1,1,1],dtype=bool)),\n",
    "       GAString(32, genes=np.array([1,1,1,1,1,1,1,1,1,1,1,1,0,0,0,1,1,0,0,1,1,1,1,1,1,1,1,1,0,1,0,0],dtype=bool)),\n",
    "       GAString(32, genes=np.array([1,1,1,1,1,1,1,1,1,1,1,1,0,0,0,1,1,0,0,1,1,1,1,1,1,1,1,1,0,1,0,0],dtype=bool)),\n",
    "       GAString(32, genes=np.array([1,1,1,1,1,1,1,1,1,1,1,1,0,0,0,1,1,0,0,1,1,1,1,1,1,1,1,1,0,1,0,0],dtype=bool))]\n",
    "\n",
    "for i in range(5):\n",
    "    pop = singleIteration(pop,f,s0,s1,s2,s,c,m)\n",
    "    res.append(getBestDude(pop,f)[1])\n",
    "    assert res[i] == ans[i]\n",
    "print(\"Sample test case passed\")"
   ]
  },
  {
   "cell_type": "code",
   "execution_count": 61,
   "metadata": {
    "deletable": false,
    "editable": false,
    "nbgrader": {
     "cell_type": "code",
     "checksum": "a126dd2b5c05d80e9c24c28f4f0dcdaf",
     "grade": true,
     "grade_id": "cell-c6485931d9e9e6a7",
     "locked": true,
     "points": 1,
     "schema_version": 3,
     "solution": false,
     "task": false
    }
   },
   "outputs": [],
   "source": [
    "# do not change code here\n",
    "# Hidden Test cases"
   ]
  },
  {
   "cell_type": "markdown",
   "metadata": {
    "deletable": false,
    "nbgrader": {
     "cell_type": "markdown",
     "checksum": "154a950864d97c96804750f14c0ce048",
     "grade": false,
     "grade_id": "cell-4591be893e956081",
     "locked": true,
     "schema_version": 3,
     "solution": false,
     "task": false
    }
   },
   "source": [
    "# PID Control Design "
   ]
  },
  {
   "cell_type": "markdown",
   "metadata": {
    "deletable": false,
    "editable": false,
    "nbgrader": {
     "cell_type": "markdown",
     "checksum": "7589ef2302b29209aa95727b799a8461",
     "grade": false,
     "grade_id": "cell-ca5eb9ea894e73e7",
     "locked": true,
     "schema_version": 3,
     "solution": false,
     "task": false
    }
   },
   "source": [
    "### Terminologies used\n",
    "\n",
    "$K_p$ denotes the proportional gain\n",
    "\n",
    "$K_i$ denotes the integral gain\n",
    "\n",
    "$K_d$ denotes the derivative gain\n",
    "\n",
    "$H(s)$ denotes the transfer function in the **s** domain\n"
   ]
  },
  {
   "cell_type": "markdown",
   "metadata": {
    "deletable": false,
    "editable": false,
    "nbgrader": {
     "cell_type": "markdown",
     "checksum": "2ed44d20d26fa7bd4f6839c4137dd261",
     "grade": false,
     "grade_id": "cell-6ecddf6a6b1d1548",
     "locked": true,
     "schema_version": 3,
     "solution": false,
     "task": false
    }
   },
   "source": [
    "### Basic Theory\n",
    "As discussed in the Workshop, any system can be modeled as shown below. \n",
    "\n",
    "<center><img src=\"pid_diagram.JPG\" width=\"512\" height=\"200\"></center>\n",
    "\n",
    "```Prompt: What are the limitation of such models? Think in terms of accuracy and feasibility```\n",
    "\n",
    "One of the most widely used controller is the *PID controller*, which stands for Proportional, Integral, Derivative Controller. The PID Control output is defined as\n",
    "\n",
    "$m(t) = K_p e(t) + K_i \\int e(t) dt + K_d \\frac{d e(t)}{dt} $ \n",
    "\n",
    "```Prompt: Can PID controller be used for all applications? Think in term of linearity```\n",
    "\n",
    "Normally the system dynamics is represented in terms of its Laplacian. We convert the diferential equation in time domain (t) to its Laplacian domain (s) \n",
    "\n",
    "$e(t)$ -> $E(s)$\n",
    "\n",
    "$\\int e(t) dt$ -> $\\frac{E(s)}{s}$\n",
    "\n",
    "$\\frac{d e(t)}{dt}$ -> $s E(s)$\n",
    "\n",
    "Till now we have been dealing with continuous variables (t,s). Unfortunately, computers are incapable of analog simulations and have to be discretized.\n",
    "\n",
    "Discretizing a continuous signal $x(t)$ to discrete sequence $x[n]$ simply involves sampling. By keeping a high sampling frequency, we can effectively imitate analog simulations.\n",
    "\n",
    "$x[n] = x(nT_s)$ where $T_s$ is the sampling period\n",
    "\n",
    "<center><img src=\"sampling.jpg\" width=\"512\" height=\"200\"></center>\n",
    "\n",
    "```Prompt: What happens if the sampling frequency is too low? How about when it is too high?```"
   ]
  },
  {
   "cell_type": "markdown",
   "metadata": {
    "deletable": false,
    "editable": false,
    "nbgrader": {
     "cell_type": "markdown",
     "checksum": "763e08b3253ae4bb516f7b884e5a1083",
     "grade": false,
     "grade_id": "cell-1230369f5d90896b",
     "locked": true,
     "schema_version": 3,
     "solution": false,
     "task": false
    }
   },
   "source": [
    "### 7- Plant Design"
   ]
  },
  {
   "cell_type": "markdown",
   "metadata": {
    "deletable": false,
    "editable": false,
    "nbgrader": {
     "cell_type": "markdown",
     "checksum": "b618cadbb5ff536f23036a2decc20b33",
     "grade": false,
     "grade_id": "cell-13d7e90cc62f61c7",
     "locked": true,
     "schema_version": 3,
     "solution": false,
     "task": false
    }
   },
   "source": [
    "As explained earlier, the plant model can be expressed in terms of a transfer function in the s domain. \n",
    "The transfer function is basically a relation of the output in terms of the input. "
   ]
  },
  {
   "cell_type": "markdown",
   "metadata": {
    "nbgrader": {
     "cell_type": "markdown",
     "checksum": "02ee40578e857421ef0cb0c260e1f683",
     "grade": false,
     "grade_id": "cell-5eeceb3a8acce6c8",
     "locked": true,
     "schema_version": 3,
     "solution": false,
     "task": false
    }
   },
   "source": [
    "#### 7.1 Designing the Input \n",
    "Control engineers test a system by giving it some standard inputs and see its response. \n",
    "We need impulse,step and ramp inputs.\n",
    "\n",
    "<center><img src=\"Impulse.JPG\" width=\"256\" height=\"100\"></center>\n",
    "<center>Impulse Response at $t_d$ at 1 sec and magnitude = 1</center>\n",
    "<center><img src=\"Step.JPG\" width=\"256\" height=\"100\"></center>\n",
    "<center>Step Response at $t_d$ at 1 sec and magnitude = 1</center>\n",
    "<center><img src=\"Ramp.JPG\" width=\"256\" height=\"100\"></center>\n",
    "<center>Ramp Response at $t_d$ at 1 sec and slope =  1</center>"
   ]
  },
  {
   "cell_type": "code",
   "execution_count": 62,
   "metadata": {
    "deletable": false,
    "editable": false,
    "nbgrader": {
     "cell_type": "code",
     "checksum": "d873bb9f89014a77e34a9ed708e2e974",
     "grade": false,
     "grade_id": "cell-bcb9e36c46a04705",
     "locked": true,
     "schema_version": 3,
     "solution": false,
     "task": false
    }
   },
   "outputs": [],
   "source": [
    "# do not change code here\n",
    "Fs = 1000 # Sampling Frequency\n",
    "Ti = 0 # Initial Time of simulation\n",
    "Tf = 5 # Final Time of simulation\n",
    "Ts = 1 / Fs # Sampling Period"
   ]
  },
  {
   "cell_type": "code",
   "execution_count": 63,
   "metadata": {
    "deletable": false,
    "nbgrader": {
     "cell_type": "code",
     "checksum": "6cebacde58ed73a9598ed842b3ad57a2",
     "grade": false,
     "grade_id": "cell-59f7ba14a7fd3143",
     "locked": false,
     "schema_version": 3,
     "solution": true,
     "task": false
    }
   },
   "outputs": [],
   "source": [
    "def impulse(Ti, Tf,Fs,td,A):\n",
    "    \"\"\"\n",
    "    Inputs:\n",
    "        td : The time where the impulse occurs\n",
    "        A: Amplitude of the impulse\n",
    "    Outputs:\n",
    "        Impulse response. (numpy array) Note: that it must be in discrete domain and a discrete impulse\n",
    "                                        signal has a finite height given by A.\n",
    "                                        Length: floor((Tf- Ti)*Fs)\n",
    "    \n",
    "    \"\"\"\n",
    "    length = math.floor((Tf - Ti)*Fs)\n",
    "    imp = np.zeros(length)\n",
    "    imp[td] = A\n",
    "    return imp\n",
    "    #raise NotImplementedError()"
   ]
  },
  {
   "cell_type": "code",
   "execution_count": 64,
   "metadata": {
    "deletable": false,
    "editable": false,
    "nbgrader": {
     "cell_type": "code",
     "checksum": "51bf9e6d1705b9f5571ff20308ada8e3",
     "grade": false,
     "grade_id": "cell-5084b69419deecda",
     "locked": true,
     "schema_version": 3,
     "solution": false,
     "task": false
    }
   },
   "outputs": [
    {
     "name": "stdout",
     "output_type": "stream",
     "text": [
      "Running sample test case\n",
      "Sample test case passed\n"
     ]
    }
   ],
   "source": [
    "# do not change code here\n",
    "### SAMPLE TEST CASE\n",
    "print(\"Running sample test case\")\n",
    "sol_im = np.load('impulse_response.npy')\n",
    "imp = impulse(Ti,Tf,Fs,0,1)\n",
    "\n",
    "assert np.allclose(sol_im, imp)\n",
    "print(\"Sample test case passed\")"
   ]
  },
  {
   "cell_type": "code",
   "execution_count": 65,
   "metadata": {
    "deletable": false,
    "editable": false,
    "nbgrader": {
     "cell_type": "code",
     "checksum": "23f420e0c8ce2a6178ea2411724cefa8",
     "grade": true,
     "grade_id": "cell-a5d9720e951bdae4",
     "locked": true,
     "points": 0.25,
     "schema_version": 3,
     "solution": false,
     "task": false
    }
   },
   "outputs": [],
   "source": [
    "# do not change code here\n",
    "# Hidden Test cases"
   ]
  },
  {
   "cell_type": "code",
   "execution_count": 66,
   "metadata": {
    "deletable": false,
    "nbgrader": {
     "cell_type": "code",
     "checksum": "9220a0a3fcb88b6f19e46313f799b9b0",
     "grade": false,
     "grade_id": "cell-0eda211a131532a2",
     "locked": false,
     "schema_version": 3,
     "solution": true,
     "task": false
    }
   },
   "outputs": [],
   "source": [
    "def step(Ti, Tf,Fs,td,A):\n",
    "    \"\"\"\n",
    "    Inputs:\n",
    "        td : The time where the step starts occurs\n",
    "        A: Amplitude of the step response\n",
    "    Outputs:\n",
    "        Step response. (numpy array) Note that it must be in discrete domain\n",
    "                                     Length: floor((Tf- Ti)*Fs)\n",
    "    \n",
    "    \"\"\"\n",
    "\n",
    "    length = math.floor((Tf-Ti)*Fs)\n",
    "    step_resp = np.zeros(length)\n",
    "    step_resp[td:] = A\n",
    "    return step_resp\n",
    "    #raise NotImplementedError()"
   ]
  },
  {
   "cell_type": "code",
   "execution_count": 67,
   "metadata": {
    "deletable": false,
    "editable": false,
    "nbgrader": {
     "cell_type": "code",
     "checksum": "1ff97c00b860163a809f7e8ea2abe78d",
     "grade": false,
     "grade_id": "cell-7d3d4aac38e10a8c",
     "locked": true,
     "schema_version": 3,
     "solution": false,
     "task": false
    }
   },
   "outputs": [
    {
     "name": "stdout",
     "output_type": "stream",
     "text": [
      "Running sample test case\n",
      "Sample test case passed\n"
     ]
    }
   ],
   "source": [
    "# do not change code here\n",
    "### SAMPLE TEST CASE\n",
    "print(\"Running sample test case\")\n",
    "sol_im = np.load('step_response.npy')\n",
    "imp = step(Ti,Tf,Fs,0,1)\n",
    "\n",
    "assert np.allclose(sol_im, imp)\n",
    "print(\"Sample test case passed\")"
   ]
  },
  {
   "cell_type": "code",
   "execution_count": 68,
   "metadata": {
    "deletable": false,
    "editable": false,
    "nbgrader": {
     "cell_type": "code",
     "checksum": "ec439fa25220ffb081e5d4c4d8fa2b01",
     "grade": true,
     "grade_id": "cell-a3c35dc20e443d52",
     "locked": true,
     "points": 0.25,
     "schema_version": 3,
     "solution": false,
     "task": false
    }
   },
   "outputs": [],
   "source": [
    "# do not change code here\n",
    "# Hidden Test cases"
   ]
  },
  {
   "cell_type": "code",
   "execution_count": 69,
   "metadata": {
    "deletable": false,
    "nbgrader": {
     "cell_type": "code",
     "checksum": "a321d57a378ef8083c299115fce60711",
     "grade": false,
     "grade_id": "cell-466399c9be074517",
     "locked": false,
     "schema_version": 3,
     "solution": true,
     "task": false
    }
   },
   "outputs": [],
   "source": [
    "def ramp(Ti, Tf,Fs,td,K):\n",
    "    \"\"\"\n",
    "    Inputs:\n",
    "        td : The time where the rmp starts occurs\n",
    "        K: Rate of increase of ramp\n",
    "    Outputs:\n",
    "        Ramp response. (numpy array) Note that it must be in discrete domain\n",
    "                                     Length: floor((Tf- Ti)*Fs)\n",
    "    \n",
    "    \"\"\"\n",
    "    # YOUR CODE HERE\n",
    "    Ts = 1/Fs\n",
    "    length = math.floor((Tf-Ti)*Fs)\n",
    "    ramp_resp = np.zeros(length)\n",
    "    for t in range(td,length):\n",
    "        ramp_resp[t] = K*(t-td)*Ts\n",
    "    return ramp_resp\n",
    "    #raise NotImplementedError()"
   ]
  },
  {
   "cell_type": "code",
   "execution_count": 70,
   "metadata": {
    "deletable": false,
    "editable": false,
    "nbgrader": {
     "cell_type": "code",
     "checksum": "2ce17d9c205e689602b2a4518255a288",
     "grade": false,
     "grade_id": "cell-7d8a5d8c0cac1111",
     "locked": true,
     "schema_version": 3,
     "solution": false,
     "task": false
    }
   },
   "outputs": [
    {
     "name": "stdout",
     "output_type": "stream",
     "text": [
      "Running sample test case\n",
      "Sample test case passed\n"
     ]
    }
   ],
   "source": [
    "# do not change code here\n",
    "### SAMPLE TEST CASE\n",
    "print(\"Running sample test case\")\n",
    "sol_im = np.load('ramp_response.npy')\n",
    "imp = ramp(Ti,Tf,Fs,0,1)\n",
    "\n",
    "assert np.allclose(sol_im, imp)\n",
    "print(\"Sample test case passed\")"
   ]
  },
  {
   "cell_type": "code",
   "execution_count": 71,
   "metadata": {
    "deletable": false,
    "editable": false,
    "nbgrader": {
     "cell_type": "code",
     "checksum": "b61f0b6efe6451107c27170116164802",
     "grade": true,
     "grade_id": "cell-9ba5c0b22f1aeb31",
     "locked": true,
     "points": 0.5,
     "schema_version": 3,
     "solution": false,
     "task": false
    }
   },
   "outputs": [],
   "source": [
    "# do not change code here\n",
    "# Hidden Test cases"
   ]
  },
  {
   "cell_type": "markdown",
   "metadata": {
    "nbgrader": {
     "cell_type": "markdown",
     "checksum": "f23075956577c6df09bfa20c5c409458",
     "grade": false,
     "grade_id": "cell-6011bd3f4b1f77bf",
     "locked": true,
     "schema_version": 3,
     "solution": false,
     "task": false
    }
   },
   "source": [
    "#### 7.2 Designing the Plant \n",
    "As discussed earlier, the plant is a often described by its transfer function. A transfer function is describes the relation of the output with respect to the input. \n",
    "\n",
    "Assume a second order system. With a general form:\n",
    "$H(s) = \\frac{Output(s)}{Input(s)} = \\frac{K}{1 + \\tau _p s}$, Where $\\tau_p$ is the plant time constant\n",
    "\n",
    "Taking the input as $x(t)$ and output as $y(t)$,\n",
    "\n",
    "$H(s) = \\frac{Y(s)}{X(s)} = \\frac{K}{1 + \\tau _p s}$\n",
    "\n",
    "$Y(s) + \\tau _p s Y(s) = K X(s)$\n",
    "\n",
    "Which leads to:\n",
    "\n",
    "$\\tau_p \\frac{dy(t)}{dt} + y(t) = K x(t)$\n"
   ]
  },
  {
   "cell_type": "code",
   "execution_count": 72,
   "metadata": {
    "deletable": false,
    "nbgrader": {
     "cell_type": "code",
     "checksum": "8c1e0f8aca47bdda39abe4d6526a06d8",
     "grade": false,
     "grade_id": "cell-63d3789831fb7012",
     "locked": false,
     "schema_version": 3,
     "solution": true,
     "task": false
    }
   },
   "outputs": [],
   "source": [
    "def plant(K,tau_p,Ti,Tf,Fs,plant_input):\n",
    "    \"\"\"\n",
    "    Inputs:\n",
    "        K : The time where the rmp starts occurs\n",
    "        tau_p: Time constant of the plant\n",
    "        Ti: Initial time\n",
    "        Tf: Final Time\n",
    "        Fs: Sampling frequency\n",
    "        plant_input: Input to the plant (numpy array)\n",
    "    Outputs:\n",
    "        Plant Dyanmics. (numpy array) Note that it must be in discrete domain\n",
    "                                      Length: floor((Tf- Ti)*Fs)\n",
    "    \n",
    "    \"\"\"\n",
    "    Ts = 1/Fs\n",
    "    num_samples = math.floor((Tf-Ti)*Fs)\n",
    "    y = np.zeros(num_samples) #Plant Output \n",
    "    for i in range(0,num_samples):\n",
    "        if i==0:\n",
    "            y[i] = K*(Ts/tau_p)*plant_input[i]\n",
    "        else:\n",
    "            y[i] = (1 - (Ts/tau_p))*y[i-1] + K*(Ts/tau_p)*plant_input[i]\n",
    "        \n",
    "    return y\n",
    "    \n",
    "    #raise NotImplementedError()"
   ]
  },
  {
   "cell_type": "code",
   "execution_count": 73,
   "metadata": {
    "deletable": false,
    "editable": false,
    "nbgrader": {
     "cell_type": "code",
     "checksum": "5c61439f86636bd28f3c78e2b7fcf8dd",
     "grade": false,
     "grade_id": "cell-2e579ad16edbbeb9",
     "locked": true,
     "schema_version": 3,
     "solution": false,
     "task": false
    }
   },
   "outputs": [
    {
     "name": "stdout",
     "output_type": "stream",
     "text": [
      "Running sample test case\n",
      "Sample test case passed\n"
     ]
    }
   ],
   "source": [
    "# do not change code here\n",
    "### SAMPLE TEST CASE\n",
    "print(\"Running sample test case\")\n",
    "sol_dynamics= np.load('plant_dynamics.npy')\n",
    "plant_input = np.load('plant_input.npy')\n",
    "dynamics = plant(1,2,Ti,Tf,Fs,plant_input)\n",
    "assert np.allclose(sol_dynamics, dynamics)\n",
    "print(\"Sample test case passed\")"
   ]
  },
  {
   "cell_type": "code",
   "execution_count": 74,
   "metadata": {
    "deletable": false,
    "editable": false,
    "nbgrader": {
     "cell_type": "code",
     "checksum": "f25f446b673c752501e0cbbdad65feaa",
     "grade": true,
     "grade_id": "cell-17155d80e423cfcb",
     "locked": true,
     "points": 0.5,
     "schema_version": 3,
     "solution": false,
     "task": false
    }
   },
   "outputs": [],
   "source": [
    "# do not change code here\n",
    "# Hidden Test cases"
   ]
  },
  {
   "cell_type": "markdown",
   "metadata": {
    "nbgrader": {
     "cell_type": "markdown",
     "checksum": "05d4228dc582a8bc3923f2959f0f0833",
     "grade": false,
     "grade_id": "cell-ad7e47644f7159d8",
     "locked": true,
     "schema_version": 3,
     "solution": false,
     "task": false
    }
   },
   "source": [
    "### 8- PID Control \n",
    "PID controllers are designed using two methods, using the position form or via its velocity form. The position form gives the output of the PID controller at that given instant whereas the velocity form implementation gives the change in PID controller output from its previous value.\n",
    "\n",
    "Assume a first order plant (as modelled earlier)\n",
    "\n",
    "**The tasks to be performed:**<br>\n",
    "\n",
    "- Position Form Implementation of PID Controller \n",
    "- Velocity Form Implementation of PID Controller \n",
    "\n",
    "\n"
   ]
  },
  {
   "cell_type": "code",
   "execution_count": 76,
   "metadata": {
    "deletable": false,
    "nbgrader": {
     "cell_type": "code",
     "checksum": "fed1536b96a4d2ec156215b24460782c",
     "grade": false,
     "grade_id": "cell-ecf7a7d6f445ee20",
     "locked": false,
     "schema_version": 3,
     "solution": true,
     "task": false
    }
   },
   "outputs": [],
   "source": [
    "def pid_pos(Kp, Ki, Kd,reference, K, tau_p,Ti,Tf,Fs):\n",
    "    \"\"\"\n",
    "    Inputs:\n",
    "        Kp: Proportional gain\n",
    "        Ki: Integral gain\n",
    "        Kp: Derivative gain\n",
    "        reference: Reference of the system (numpy array) Length: floor((Tf- Ti)*Fs)+1\n",
    "        K: Gain of plant\n",
    "        tau_p: Time constant of the plant\n",
    "        Ti: Initial time\n",
    "        Tf: Final Time\n",
    "        Fs: Sampling frequency\n",
    "    Outputs:\n",
    "        Plant Response. (numpy array) Note that it must be in discrete domain\n",
    "                                      Length: floor((Tf- Ti)*Fs)\n",
    "    \n",
    "    \"\"\"\n",
    "    # YOUR CODE HERE\n",
    "    Ts = 1/Fs\n",
    "    num_samples = math.floor((Tf-Ti)*Fs)\n",
    "    p = np.zeros(num_samples+1) #controller output\n",
    "    y = np.zeros(num_samples)   #plant output\n",
    "    err = np.zeros(num_samples+1)\n",
    "    int_err = np.zeros(num_samples+1)\n",
    "    diff_err = np.zeros(num_samples+1)\n",
    "    \n",
    "    for i in range(0,num_samples):\n",
    "        if i==0:\n",
    "            y[i] = K*(Ts/tau_p)*p[i]\n",
    "        else:\n",
    "            y[i] = (1 - (Ts/tau_p))*y[i-1] + K*(Ts/tau_p)*p[i]\n",
    "        \n",
    "        err[i+1] = reference[i+1] - y[i] \n",
    "        int_err[i+1] = int_err[i] + Ts* err[i+1] \n",
    "        diff_err[i+1] = (err[i+1] - err[i]) /Ts \n",
    "        p[i+1] = Kp* err[i+1] + Ki * int_err[i+1] + Kd* diff_err[i+1]\n",
    "    \n",
    "    return y\n",
    "    #raise NotImplementedError()"
   ]
  },
  {
   "cell_type": "code",
   "execution_count": 77,
   "metadata": {
    "deletable": false,
    "editable": false,
    "nbgrader": {
     "cell_type": "code",
     "checksum": "efc56fabee23318ed3d63129d72993da",
     "grade": false,
     "grade_id": "cell-3eecaf51d5db2857",
     "locked": true,
     "schema_version": 3,
     "solution": false,
     "task": false
    }
   },
   "outputs": [
    {
     "name": "stdout",
     "output_type": "stream",
     "text": [
      "Running sample test case\n",
      "Sample test case passed\n"
     ]
    }
   ],
   "source": [
    "# do not change code here\n",
    "### SAMPLE TEST CASE\n",
    "print(\"Running sample test case\")\n",
    "pid_pos_dynamics= np.load('pid_pos_dynamics.npy')\n",
    "reference = np.load('reference.npy')\n",
    "dynamics = pid_pos(5, 5, 0.1,reference, 1, 2,Ti,Tf,Fs)\n",
    "\n",
    "assert np.allclose(pid_pos_dynamics, dynamics)\n",
    "print(\"Sample test case passed\")"
   ]
  },
  {
   "cell_type": "code",
   "execution_count": 78,
   "metadata": {
    "deletable": false,
    "editable": false,
    "nbgrader": {
     "cell_type": "code",
     "checksum": "7d4f43b3599811e8fcb8da63a8b1653a",
     "grade": true,
     "grade_id": "cell-4324aadd7810684f",
     "locked": true,
     "points": 1,
     "schema_version": 3,
     "solution": false,
     "task": false
    }
   },
   "outputs": [],
   "source": [
    "# do not change code here\n",
    "# Hidden Test cases"
   ]
  },
  {
   "cell_type": "code",
   "execution_count": 79,
   "metadata": {
    "deletable": false,
    "nbgrader": {
     "cell_type": "code",
     "checksum": "5b18e7a254acb57c63c8322e49593a8b",
     "grade": false,
     "grade_id": "cell-992f9054b0536eb3",
     "locked": false,
     "schema_version": 3,
     "solution": true,
     "task": false
    }
   },
   "outputs": [],
   "source": [
    "def pid_velocity(Kp, Ki, Kd,reference, K, tau_p,Ti,Tf,Fs):\n",
    "    \"\"\"\n",
    "    Inputs:\n",
    "        Kp: Proportional gain\n",
    "        Ki: Integral gain\n",
    "        Kp: Derivative gain\n",
    "        reference: Reference of the system (numpy array) Length: floor((Tf- Ti)*Fs)+1\n",
    "        K: Gain of plant\n",
    "        tau_p: Time constant of the plant\n",
    "        Ti: Initial time\n",
    "        Tf: Final Time\n",
    "        Fs: Sampling frequency\n",
    "    Outputs:\n",
    "        Plant Dyanmics. (numpy array) Note that it must be in discrete domain\n",
    "                                      Length: floor((Tf- Ti)*Fs)\n",
    "    \n",
    "    \"\"\"\n",
    "    # YOUR CODE HERE\n",
    "    Ts = 1/Fs\n",
    "    num_samples = math.floor((Tf-Ti)*Fs)\n",
    "    v = np.zeros(num_samples+1) #controller output\n",
    "    y = np.zeros(num_samples)   #plant output\n",
    "    err = np.zeros(num_samples+1)\n",
    "    int_err = np.zeros(num_samples+1)\n",
    "    diff_err= np.zeros(num_samples+1)\n",
    "    \n",
    "    for i in range(0,num_samples):\n",
    "        if i==0:\n",
    "            y[i] = K*(Ts/tau_p)*v[i]\n",
    "        else:\n",
    "            y[i] = (1 - (Ts/tau_p))*y[i-1] + K*(Ts/tau_p)*v[i]\n",
    "        \n",
    "        err[i+1] = reference[i+1] - y[i] \n",
    "        int_err[i+1] = int_err[i] + Ts* err[i+1] \n",
    "        diff_err[i+1] = (err[i+1] - err[i]) /Ts \n",
    "        v[i+1] = v[i] + Kp* (err[i+1]-err[i]) + Ki *(int_err[i+1]-int_err[i]) + Kd*(diff_err[i+1]-diff_err[i])\n",
    "    \n",
    "    return y\n",
    "    #raise NotImplementedError()"
   ]
  },
  {
   "cell_type": "code",
   "execution_count": 80,
   "metadata": {
    "deletable": false,
    "editable": false,
    "nbgrader": {
     "cell_type": "code",
     "checksum": "ea8e144881fd36066e76bbc7d32d2d8e",
     "grade": false,
     "grade_id": "cell-f788686d91593adb",
     "locked": true,
     "schema_version": 3,
     "solution": false,
     "task": false
    }
   },
   "outputs": [
    {
     "name": "stdout",
     "output_type": "stream",
     "text": [
      "Running sample test case\n",
      "Sample test case passed\n"
     ]
    }
   ],
   "source": [
    "# do not change code here\n",
    "### SAMPLE TEST CASE\n",
    "print(\"Running sample test case\")\n",
    "pid_velocity_dynamics= np.load('pid_velocity_dynamics.npy')\n",
    "reference = np.load('reference.npy')\n",
    "dynamics = pid_velocity(5, 5, 0.1,reference, 1, 2,Ti,Tf,Fs)\n",
    "assert np.allclose(pid_velocity_dynamics, dynamics)\n",
    "print(\"Sample test case passed\")"
   ]
  },
  {
   "cell_type": "code",
   "execution_count": 81,
   "metadata": {
    "deletable": false,
    "editable": false,
    "nbgrader": {
     "cell_type": "code",
     "checksum": "a9a511d936adfec6696b907a8e8f8a4b",
     "grade": true,
     "grade_id": "cell-98861f6627c61776",
     "locked": true,
     "points": 1,
     "schema_version": 3,
     "solution": false,
     "task": false
    }
   },
   "outputs": [],
   "source": [
    "# do not change code here\n",
    "# Hidden Test cases"
   ]
  },
  {
   "cell_type": "markdown",
   "metadata": {
    "nbgrader": {
     "cell_type": "markdown",
     "checksum": "956d941180632b8df2a90ab287845970",
     "grade": false,
     "grade_id": "cell-36f3d91786aae547",
     "locked": true,
     "schema_version": 3,
     "solution": false,
     "task": false
    }
   },
   "source": [
    "#### 8.2 Limited PID Control Output\n",
    "\n",
    "In the above implementation, the PID controller is allowed to take any range of values. Practically, this is not possible, the controller output is limited to a minimum and maximum value. The controller value can not go below the ```control_min``` and ```control_max```\n",
    "\n",
    "**The tasks to be performed:**<br>\n",
    "Modify the above models to take this into account\n",
    "- Position Form Implementation of PID Controller With Limited PID Output \n",
    "- Velocity Form Implementation of PID Controller With Limited PID Output \n",
    "\n"
   ]
  },
  {
   "cell_type": "code",
   "execution_count": 83,
   "metadata": {
    "deletable": false,
    "nbgrader": {
     "cell_type": "code",
     "checksum": "c31676c1b0d1d0dc0052e24f0ebb3c55",
     "grade": false,
     "grade_id": "cell-cbf370ed10536c0c",
     "locked": false,
     "schema_version": 3,
     "solution": true,
     "task": false
    }
   },
   "outputs": [],
   "source": [
    "def pid_pos_lim(Kp, Ki, Kd,MIN_PID, MAX_PID,reference, K, tau_p,Ti,Tf,Fs):\n",
    "    \"\"\"\n",
    "    Inputs:\n",
    "        Kp: Proportional gain\n",
    "        Ki: Integral gain\n",
    "        Kp: Derivative gain\n",
    "        MIN_PID: Minimum value of PID controller output\n",
    "        MAX_PID: Maximum value of PID controller output\n",
    "        reference: Reference of the system (numpy array) Length: floor((Tf- Ti)*Fs)+1\n",
    "        K: Gain of plant\n",
    "        tau_p: Time constant of the plant\n",
    "        Ti: Initial time\n",
    "        Tf: Final Time\n",
    "        Fs: Sampling frequency\n",
    "    Outputs:\n",
    "        Plant Response. (numpy array) Note that it must be in discrete domain\n",
    "                                      Length: floor((Tf- Ti)*Fs)\n",
    "    \n",
    "    \"\"\"\n",
    "    # YOUR CODE HERE\n",
    "    Ts = 1/Fs\n",
    "    num_samples = math.floor((Tf-Ti)*Fs)\n",
    "    p = np.zeros(num_samples+1)\n",
    "    y = np.zeros(num_samples)\n",
    "    err = np.zeros(num_samples+1)\n",
    "    int_err = np.zeros(num_samples+1)\n",
    "    diff_err = np.zeros(num_samples+1)\n",
    "\n",
    "    \n",
    "    for i in range(0,num_samples):\n",
    "        if i==0:\n",
    "            y[i] = K*(Ts/tau_p)*p[i]\n",
    "        else:\n",
    "            y[i] = (1 - (Ts/tau_p))*y[i-1] + K*(Ts/tau_p)*p[i]\n",
    "        \n",
    "        err[i+1] = reference[i+1] - y[i] \n",
    "        int_err[i+1] = int_err[i] + Ts* err[i+1] \n",
    "        diff_err[i+1] = (err[i+1] - err[i]) /Ts \n",
    "        p[i+1] = Kp* err[i+1] + Ki * int_err[i+1] + Kd* diff_err[i+1]\n",
    "        if p[i+1] > MAX_PID:\n",
    "            p[i+1] = MAX_PID\n",
    "        elif p[i+1] < MIN_PID:\n",
    "            p[i+1] = MIN_PID\n",
    "        else:\n",
    "            continue\n",
    "    return y\n",
    "   \n",
    "    #raise NotImplementedError()"
   ]
  },
  {
   "cell_type": "code",
   "execution_count": 84,
   "metadata": {
    "deletable": false,
    "editable": false,
    "nbgrader": {
     "cell_type": "code",
     "checksum": "a6dd3bebd42eb468684b816bec067ac5",
     "grade": false,
     "grade_id": "cell-ef6288b3f47af129",
     "locked": true,
     "schema_version": 3,
     "solution": false,
     "task": false
    }
   },
   "outputs": [
    {
     "name": "stdout",
     "output_type": "stream",
     "text": [
      "Running sample test case\n",
      "Sample test case passed\n"
     ]
    }
   ],
   "source": [
    "# do not change code here\n",
    "### SAMPLE TEST CASE\n",
    "print(\"Running sample test case\")\n",
    "pid_pos_lim_dynamics= np.load('pid_pos_lim_dynamics.npy')\n",
    "reference = np.load('reference.npy')\n",
    "dynamics = pid_pos_lim(5, 5, 0.1,-50,50,reference, 1, 2,Ti,Tf,Fs)\n",
    "assert np.allclose(pid_pos_lim_dynamics, dynamics)\n",
    "print(\"Sample test case passed\")"
   ]
  },
  {
   "cell_type": "code",
   "execution_count": 85,
   "metadata": {
    "deletable": false,
    "editable": false,
    "nbgrader": {
     "cell_type": "code",
     "checksum": "782523195469ca47d4da10625dde49d0",
     "grade": true,
     "grade_id": "cell-2d622d5603bd34b2",
     "locked": true,
     "points": 0.25,
     "schema_version": 3,
     "solution": false,
     "task": false
    }
   },
   "outputs": [],
   "source": [
    "# do not change code here\n",
    "# Hidden Test cases"
   ]
  },
  {
   "cell_type": "code",
   "execution_count": 86,
   "metadata": {
    "nbgrader": {
     "cell_type": "code",
     "checksum": "3e4ae84a04da57aa44f90349113b0374",
     "grade": false,
     "grade_id": "cell-7d0409c64f6bdba1",
     "locked": false,
     "schema_version": 3,
     "solution": true,
     "task": false
    }
   },
   "outputs": [],
   "source": [
    "def pid_velocity_lim(Kp, Ki, Kd,MIN_PID,MAX_PID,reference, K, tau_p,Ti,Tf,Fs):\n",
    "    \"\"\"\n",
    "    Inputs:\n",
    "        Kp: Proportional gain\n",
    "        Ki: Integral gain\n",
    "        Kp: Derivative gain\n",
    "        MIN_PID: Minimum value of PID controller output\n",
    "        MAX_PID: Maximum value of PID controller output\n",
    "        reference: Reference of the system (numpy array) Length: floor((Tf- Ti)*Fs)+1\n",
    "        K: Gain of plant\n",
    "        tau_p: Time constant of the plant\n",
    "        Ti: Initial time\n",
    "        Tf: Final Time\n",
    "        Fs: Sampling frequency\n",
    "    Outputs:\n",
    "        Plant Dyanmics. (numpy array) Note that it must be in discrete domain\n",
    "                                      Length: floor((Tf- Ti)*Fs)\n",
    "    \n",
    "    \"\"\"\n",
    "    # YOUR CODE HERE\n",
    "    Ts = 1/Fs\n",
    "    num_samples = math.floor((Tf-Ti)*Fs)\n",
    "    v = np.zeros(num_samples+1)\n",
    "    y = np.zeros(num_samples)\n",
    "    err = np.zeros(num_samples+1)\n",
    "    int_err = np.zeros(num_samples+1)\n",
    "    diff_err= np.zeros(num_samples+1)\n",
    "    \n",
    "    for i in range(0,num_samples):\n",
    "        if i==0:\n",
    "            y[i] = K*(Ts/tau_p)*v[i]\n",
    "        else:\n",
    "            y[i] = (1 - (Ts/tau_p))*y[i-1] + K*(Ts/tau_p)*v[i]\n",
    "        \n",
    "        err[i+1] = reference[i+1] - y[i] \n",
    "        int_err[i+1] = int_err[i] + Ts* err[i+1] \n",
    "        diff_err[i+1] = (err[i+1] - err[i]) /Ts \n",
    "        # For velocity form implementation :\n",
    "        v[i+1] = v[i] + Kp* (err[i+1]-err[i]) + Ki *(int_err[i+1]-int_err[i]) + Kd*(diff_err[i+1]-diff_err[i])\n",
    "        if v[i+1] > MAX_PID:\n",
    "            v[i+1] = MAX_PID\n",
    "        elif v[i+1] < MIN_PID:\n",
    "            v[i+1] = MIN_PID\n",
    "        else:\n",
    "            continue\n",
    "    return y\n",
    "    \n",
    "    #raise NotImplementedError()"
   ]
  },
  {
   "cell_type": "code",
   "execution_count": 87,
   "metadata": {
    "deletable": false,
    "editable": false,
    "nbgrader": {
     "cell_type": "code",
     "checksum": "038880ae9be233faa62bc0c41f8f3255",
     "grade": false,
     "grade_id": "cell-0bf687b9184cdd62",
     "locked": true,
     "schema_version": 3,
     "solution": false,
     "task": false
    },
    "scrolled": true
   },
   "outputs": [
    {
     "name": "stdout",
     "output_type": "stream",
     "text": [
      "Running sample test case\n",
      "Sample test case passed\n"
     ]
    }
   ],
   "source": [
    "# do not change code here\n",
    "### SAMPLE TEST CASE\n",
    "print(\"Running sample test case\")\n",
    "pid_velocity_lim_dynamics= np.load('pid_velocity_lim_dynamics.npy')\n",
    "reference = np.load('reference.npy')\n",
    "dynamics = pid_velocity_lim(5, 5, 0.1,-50,50,reference, 1, 2,Ti,Tf,Fs)\n",
    "assert np.allclose(pid_velocity_lim_dynamics, dynamics)\n",
    "print(\"Sample test case passed\")"
   ]
  },
  {
   "cell_type": "code",
   "execution_count": 88,
   "metadata": {
    "deletable": false,
    "editable": false,
    "nbgrader": {
     "cell_type": "code",
     "checksum": "9e9eedd9f35a30b467f6a4bb88c3afa1",
     "grade": true,
     "grade_id": "cell-758abdb3c7d9c636",
     "locked": true,
     "points": 0.25,
     "schema_version": 3,
     "solution": false,
     "task": false
    }
   },
   "outputs": [],
   "source": [
    "# do not change code here\n",
    "# Hidden Test cases"
   ]
  },
  {
   "cell_type": "markdown",
   "metadata": {
    "nbgrader": {
     "cell_type": "markdown",
     "checksum": "91e034a9cbc1a172cf06b7946abc2c81",
     "grade": false,
     "grade_id": "cell-75b61418a169d3b0",
     "locked": true,
     "schema_version": 3,
     "solution": false,
     "task": false
    }
   },
   "source": [
    "### 9-Characteristics \n",
    "A control system is characterised by its step response. Using this, certain charactersistics are derived such as its settling time, rise time and peak overshoot.\n",
    "\n",
    "\n",
    "<center><img src=\"characteristics.jpg\" width=\"512\" height=\"200\"></center>\n",
    "\n",
    "\n",
    "Hint: Peak is positive only. Peak overshoot **percentage** is the maximum deviation from the value at inifinity (reference) in percentage of the final value at inifinity (reference\n",
    "\n",
    "Hint: Settling time is the time in which the output is within a tolerance band (Look at figure)\n",
    "\n",
    "Hint: Rise time is defined as the time taken to reach 90 % of the final value\n",
    "\n",
    "Assumptions that can be made: System is stable"
   ]
  },
  {
   "cell_type": "code",
   "execution_count": 89,
   "metadata": {
    "deletable": false,
    "nbgrader": {
     "cell_type": "code",
     "checksum": "1abe49106f2051c88881cdda74049735",
     "grade": false,
     "grade_id": "cell-1f7497a8229b0867",
     "locked": false,
     "schema_version": 3,
     "solution": true,
     "task": false
    }
   },
   "outputs": [],
   "source": [
    "### 0.25 Mark\n",
    "def peak_overshoot(response,reference):\n",
    "    \"\"\"\n",
    "    Inputs:\n",
    "        response: Reponse of a system (numpy array) Length: floor((Tf- Ti)*Fs)\n",
    "        reference: System Reference (numpy array) Length: floor((Tf- Ti)*Fs)+1\n",
    "    Outputs:\n",
    "       Percentage of Peak Overshoot (Normalized by response value at infinity)\n",
    "    \n",
    "    \"\"\"\n",
    "    # YOUR CODE HERE\n",
    "    n = math.floor((Tf-Ti)*Fs)\n",
    "    err = np.zeros(n+1)\n",
    "    osl = []\n",
    "    for i in range(n):\n",
    "        err[i+1] = (response[i] - reference[i+1])/reference[i+1]\n",
    "        osl.append(err[i+1])\n",
    "    m = max(osl)\n",
    "    return m*100\n",
    "    \n",
    "    #raise NotImplementedError()"
   ]
  },
  {
   "cell_type": "code",
   "execution_count": 90,
   "metadata": {
    "deletable": false,
    "editable": false,
    "nbgrader": {
     "cell_type": "code",
     "checksum": "89da18827a468c8a1b115f5130ba52ae",
     "grade": false,
     "grade_id": "cell-1980ad2e7b1e62bc",
     "locked": true,
     "schema_version": 3,
     "solution": false,
     "task": false
    }
   },
   "outputs": [
    {
     "name": "stdout",
     "output_type": "stream",
     "text": [
      "Running sample test case\n",
      "Sample test case passed\n"
     ]
    }
   ],
   "source": [
    "# do not change code here\n",
    "### SAMPLE TEST CASE\n",
    "print(\"Running sample test case\")\n",
    "reference = np.load('reference.npy')\n",
    "sol_Mp = 6.628417857787472\n",
    "Mp = peak_overshoot(pid_velocity(5, 5, 0.1,reference, 1, 2,Ti,Tf,Fs),reference)\n",
    "assert np.allclose(sol_Mp, Mp)\n",
    "print(\"Sample test case passed\")"
   ]
  },
  {
   "cell_type": "code",
   "execution_count": 91,
   "metadata": {
    "deletable": false,
    "editable": false,
    "nbgrader": {
     "cell_type": "code",
     "checksum": "f51ede98b33d050ac330abcd4d7688da",
     "grade": true,
     "grade_id": "cell-a2b693f71225bf05",
     "locked": true,
     "points": 0.25,
     "schema_version": 3,
     "solution": false,
     "task": false
    }
   },
   "outputs": [],
   "source": [
    "# do not change code here\n",
    "# Hidden Test cases"
   ]
  },
  {
   "cell_type": "code",
   "execution_count": 92,
   "metadata": {
    "deletable": false,
    "nbgrader": {
     "cell_type": "code",
     "checksum": "e9c1a14ecfcb9a76e15c7f0872d11041",
     "grade": false,
     "grade_id": "cell-27c7a63c7bbfe0ff",
     "locked": false,
     "schema_version": 3,
     "solution": true,
     "task": false
    }
   },
   "outputs": [],
   "source": [
    "### 0.5 Mark\n",
    "def settling_time(response,reference,threshold,Ti,Tf,Fs):\n",
    "    \"\"\"\n",
    "    Inputs:\n",
    "        response: Reponse of a system (numpy array) Length: floor((Tf- Ti)*Fs)\n",
    "        reference: System Reference (numpy array) Length: floor((Tf- Ti)*Fs)+1\n",
    "        threshold: percentage oscillation (lee-way) allowed for settling\n",
    "    Outputs:\n",
    "       Settling time. Note it should be in analog domain (seconds)\n",
    "    \n",
    "    \"\"\"\n",
    "    # YOUR CODE HERE\n",
    "    Ts = 1/Fs\n",
    "    n = math.floor((Tf-Ti)*Fs)\n",
    "    err = np.zeros(n+1)\n",
    "    set_time = 1\n",
    "    for i in range(n):\n",
    "        for j in range(i,n):\n",
    "            err = (np.absolute(response[i] - reference[i+1])*100/reference[i+1])\n",
    "            if err <= abs(threshold):\n",
    "                j += 1\n",
    "            elif j == n-1:\n",
    "                set_time = (i+1)*Ts\n",
    "                    \n",
    "    return set_time\n",
    "    #raise NotImplementedError()"
   ]
  },
  {
   "cell_type": "code",
   "execution_count": 93,
   "metadata": {
    "deletable": false,
    "editable": false,
    "nbgrader": {
     "cell_type": "code",
     "checksum": "4171f2d1eca947580f9d5284180c8b73",
     "grade": false,
     "grade_id": "cell-83d14b8e7380bf84",
     "locked": true,
     "schema_version": 3,
     "solution": false,
     "task": false
    }
   },
   "outputs": [
    {
     "name": "stdout",
     "output_type": "stream",
     "text": [
      "Running sample test case\n",
      "Sample test case passed\n"
     ]
    }
   ],
   "source": [
    "# do not change code here\n",
    "### SAMPLE TEST CASE\n",
    "print(\"Running sample test case\")\n",
    "reference = np.load('reference.npy')\n",
    "sol_settling_t = 3.24\n",
    "settling_t = settling_time(pid_velocity_lim(5, 5, 0.1,-50,50,reference, 1, 2,Ti,Tf,Fs),reference,20,Ti,Tf,Fs)\n",
    "assert np.allclose(sol_settling_t, settling_t)\n",
    "print(\"Sample test case passed\")"
   ]
  },
  {
   "cell_type": "code",
   "execution_count": 94,
   "metadata": {
    "deletable": false,
    "editable": false,
    "nbgrader": {
     "cell_type": "code",
     "checksum": "dfd32a7ce7207e969dd6a798b76f40f2",
     "grade": true,
     "grade_id": "cell-b1dbdf02e41c9ad8",
     "locked": true,
     "points": 0.5,
     "schema_version": 3,
     "solution": false,
     "task": false
    }
   },
   "outputs": [],
   "source": [
    "# do not change code here\n",
    "# Hidden Test cases"
   ]
  },
  {
   "cell_type": "code",
   "execution_count": 95,
   "metadata": {
    "deletable": false,
    "nbgrader": {
     "cell_type": "code",
     "checksum": "63e788bde19261181032dcb922599d1e",
     "grade": false,
     "grade_id": "cell-2b6a70aaca62fb5c",
     "locked": false,
     "schema_version": 3,
     "solution": true,
     "task": false
    }
   },
   "outputs": [],
   "source": [
    "def rise_time(response,reference,Ti,Tf,Fs):\n",
    "    \"\"\"\n",
    "    Inputs:\n",
    "        response: Reponse of a system (numpy array) Length: floor((Tf- Ti)*Fs)\n",
    "        reference: System Reference (numpy array) Length: floor((Tf- Ti)*Fs)+1\n",
    "    Outputs:\n",
    "        Rise time. Note it should be in analog domain (seconds)\n",
    "    \n",
    "    \"\"\"\n",
    "    # YOUR CODE HERE \n",
    "    Ts = 1/Fs\n",
    "    n = math.floor((Tf-Ti)*Fs)\n",
    "    lst = []\n",
    "    err = np.zeros(n+1)\n",
    "    for i in range(n):\n",
    "        err = (abs(response[i] - reference[i+1])/reference[i+1])\n",
    "        if err <= 0.1:\n",
    "            lst.append(i)\n",
    "    rise_time = lst[0]*Ts\n",
    "    return rise_time\n",
    "    #raise NotImplementedError()"
   ]
  },
  {
   "cell_type": "code",
   "execution_count": 96,
   "metadata": {
    "deletable": false,
    "editable": false,
    "nbgrader": {
     "cell_type": "code",
     "checksum": "106e34296b0a178dfbb1a4499d6fa634",
     "grade": false,
     "grade_id": "cell-51a70ffc3fbf1758",
     "locked": true,
     "schema_version": 3,
     "solution": false,
     "task": false
    }
   },
   "outputs": [
    {
     "name": "stdout",
     "output_type": "stream",
     "text": [
      "Running sample test case\n",
      "Sample test case passed\n"
     ]
    }
   ],
   "source": [
    "# do not change code here\n",
    "### SAMPLE TEST CASE\n",
    "print(\"Running sample test case\")\n",
    "reference = np.load('reference.npy')\n",
    "sol_tr = 3.641\n",
    "tr = rise_time(pid_velocity_lim(5, 5, 0.1,-50,50,reference, 1, 2,Ti,Tf,Fs),reference,Ti,Tf,Fs)\n",
    "assert np.allclose(sol_tr, tr)\n",
    "print(\"Sample test case passed\")"
   ]
  },
  {
   "cell_type": "code",
   "execution_count": 97,
   "metadata": {
    "deletable": false,
    "editable": false,
    "nbgrader": {
     "cell_type": "code",
     "checksum": "94a322aaa9e052b4ad2fcca15eb38f6d",
     "grade": true,
     "grade_id": "cell-4ad152f363d7fee9",
     "locked": true,
     "points": 0.25,
     "schema_version": 3,
     "solution": false,
     "task": false
    }
   },
   "outputs": [],
   "source": [
    "# do not change code here\n",
    "# Hidden Test cases"
   ]
  },
  {
   "cell_type": "markdown",
   "metadata": {
    "nbgrader": {
     "cell_type": "markdown",
     "checksum": "9e2b87e9be3f788fee3c596e21377e9d",
     "grade": false,
     "grade_id": "cell-4019067df5400fc7",
     "locked": true,
     "schema_version": 3,
     "solution": false,
     "task": false
    }
   },
   "source": [
    "### 10- GA Tuned PID Remix"
   ]
  },
  {
   "cell_type": "markdown",
   "metadata": {
    "nbgrader": {
     "cell_type": "markdown",
     "checksum": "b382de8b25443c91090a1f9220b0e764",
     "grade": false,
     "grade_id": "cell-1269997d33e1eab3",
     "locked": true,
     "schema_version": 3,
     "solution": false,
     "task": false
    }
   },
   "source": [
    "#### 10.1 GA Tuned PID Error Function \n",
    "\n",
    "Tune the $K_p, K_i, K_d$ values of a PID controller using a GA. To do that, the fitness function needs to be designed. The error should be the sum of the peak overshoot and integral time absolute error\n",
    "\n",
    "$e = reference - \\textit{output dynamics}$\n",
    "\n",
    "$ITAE = \\sum (t \\cdot | e |)$"
   ]
  },
  {
   "cell_type": "code",
   "execution_count": 98,
   "metadata": {
    "deletable": false,
    "nbgrader": {
     "cell_type": "code",
     "checksum": "1cc289deabe58cc12ad0f6e288df0d20",
     "grade": false,
     "grade_id": "cell-3425effd810a73c8",
     "locked": false,
     "schema_version": 3,
     "solution": true,
     "task": false
    }
   },
   "outputs": [],
   "source": [
    "def PID_tune_error_function(Kp, Ki, Kd,reference,K,tau_p,Ti,Tf,Fs):\n",
    "    \"\"\"\n",
    "    Inputs:\n",
    "        Kp: Proportional gain\n",
    "        Ki: Integral gain\n",
    "        Kp: Derivative gain\n",
    "        reference: Reference of the system (numpy array) Length: floor((Tf- Ti)*Fs)+1\n",
    "        K: Gain of plant\n",
    "        tau_p: Time constant of the plant\n",
    "        Ti: Initial time\n",
    "        Tf: Final Time\n",
    "        Fs: Sampling frequency\n",
    "    Outputs:\n",
    "        Error: As defined above\n",
    "    \n",
    "    \"\"\"\n",
    "    Ts = 1/Fs\n",
    "    dynamics = pid_velocity(Kp, Ki, Kd, reference, K, tau_p, Ti, Tf, Fs)\n",
    "    # YOUR CODE HERE\n",
    "    n_samples = math.floor((Tf-Ti)*Fs)\n",
    "    t = np.arange(Ti,Tf,Ts)\n",
    "    l = math.floor(((Tf-Ti)*Fs)+1)\n",
    "    e = np.zeros(n_samples+1)\n",
    "    int_e = np.zeros(n_samples+1)\n",
    "    ITAE = 0\n",
    "    \n",
    "    for i in range(n_samples):\n",
    "        e[i+1] = reference[i+1] - dynamics[i] \n",
    "        \n",
    "    for i in range(l):\n",
    "        p = t[i-1]*abs(e[i])\n",
    "        ITAE += p\n",
    "    error = ITAE + peak_overshoot(dynamics,reference)\n",
    "    return error\n",
    "    #raise NotImplementedError()\n",
    "    "
   ]
  },
  {
   "cell_type": "code",
   "execution_count": 99,
   "metadata": {
    "deletable": false,
    "editable": false,
    "nbgrader": {
     "cell_type": "code",
     "checksum": "c64ed97e99c8abcc92cecb3faae26598",
     "grade": false,
     "grade_id": "cell-225218263c0b2c12",
     "locked": true,
     "schema_version": 3,
     "solution": false,
     "task": false
    }
   },
   "outputs": [
    {
     "name": "stdout",
     "output_type": "stream",
     "text": [
      "Running sample test case\n",
      "Sample test case passed\n"
     ]
    }
   ],
   "source": [
    "# do not change code here\n",
    "### SAMPLE TEST CASE\n",
    "print(\"Running sample test case\")\n",
    "reference = np.load('reference.npy')\n",
    "sol_J = 280.06633899734993\n",
    "J = PID_tune_error_function(5,5, 0.1,reference,2,2,Ti,Tf,Fs)\n",
    "assert np.allclose(sol_J, J)\n",
    "print(\"Sample test case passed\")"
   ]
  },
  {
   "cell_type": "code",
   "execution_count": 100,
   "metadata": {
    "deletable": false,
    "editable": false,
    "nbgrader": {
     "cell_type": "code",
     "checksum": "ac878415c2b96b0cd38512e47623bb3c",
     "grade": true,
     "grade_id": "cell-087cbe1b62ddf0d4",
     "locked": true,
     "points": 0.5,
     "schema_version": 3,
     "solution": false,
     "task": false
    }
   },
   "outputs": [],
   "source": [
    "# do not change code here\n",
    "# Hidden Test cases"
   ]
  },
  {
   "cell_type": "markdown",
   "metadata": {
    "nbgrader": {
     "cell_type": "markdown",
     "checksum": "916396873ddf54bb00980d0120e951c1",
     "grade": false,
     "grade_id": "cell-369c31a21fa48b0a",
     "locked": true,
     "schema_version": 3,
     "solution": false,
     "task": false
    }
   },
   "source": [
    "#### 10.2 GA Fitness Function \n",
    "\n",
    "For creating the correct fitness function, we need to consider the problem statement carefully. The values we need are going to be floating point, positive, and relatively small. Luckily for us, we already have a function which can convert the bitstring of our _GAString_ to a floating point number in a particular range.\n",
    "\n",
    "Assume the following - \n",
    "- $0.0 \\leq K _p \\leq 20.0$\n",
    "- $0.0 \\leq K _i \\leq 10.0$\n",
    "- $0.0 \\leq K _d \\leq 1.0$\n",
    "- The number of bits required for each individual parameter is 10.\n",
    "\n",
    "For the actual fitness, we just use the arithmetic inverse of the value obtained from the PID error function.\n",
    "\n"
   ]
  },
  {
   "cell_type": "code",
   "execution_count": 101,
   "metadata": {
    "nbgrader": {
     "cell_type": "code",
     "checksum": "cd3748bf89f14fa648a286f40b6adc15",
     "grade": false,
     "grade_id": "cell-ec47c160d4e82d3f",
     "locked": false,
     "schema_version": 3,
     "solution": true,
     "task": false
    }
   },
   "outputs": [],
   "source": [
    "def usefulFitness(dude):\n",
    "    \"\"\"\n",
    "    Input:  dude is a GAString object i.e. an individual chromosome\n",
    "    \n",
    "    Output: the fitness, as specified above in section 10.1\n",
    "    \"\"\"\n",
    "    reference = np.load('reference.npy')\n",
    "    K = 2\n",
    "    tau_p = 2\n",
    "    # YOUR CODE HERE\n",
    "    l = len(dude.genes) #Here length of bitstring should be >=30\n",
    "    g1 = dude.genes[0:10]\n",
    "    g2 = dude.genes[10:20]\n",
    "    g3 = dude.genes[20:30]\n",
    "    Kp = decodeFloatRange(g1,0.0,20.0)\n",
    "    Ki = decodeFloatRange(g2,0.0,10.0)\n",
    "    Kd = decodeFloatRange(g3,0.0,1.0)\n",
    "    error = PID_tune_error_function(Kp, Ki, Kd,reference,K,tau_p,Ti,Tf,Fs)\n",
    "    fitness = -error\n",
    "    return fitness\n",
    "    #raise NotImplementedError()"
   ]
  },
  {
   "cell_type": "code",
   "execution_count": 102,
   "metadata": {
    "deletable": false,
    "editable": false,
    "nbgrader": {
     "cell_type": "code",
     "checksum": "d2d8afef6453fb1e3869fd1fee481630",
     "grade": false,
     "grade_id": "cell-51352b8da8c84fdb",
     "locked": true,
     "schema_version": 3,
     "solution": false,
     "task": false
    }
   },
   "outputs": [
    {
     "name": "stdout",
     "output_type": "stream",
     "text": [
      "Running sample test case\n",
      "Sample test case passed\n"
     ]
    }
   ],
   "source": [
    "# do not change code here\n",
    "### SAMPLE TEST CASE\n",
    "print(\"Running sample test case\")\n",
    "random.seed(1002)\n",
    "reference = np.load('reference.npy')\n",
    "K = 2\n",
    "tau_p = 2\n",
    "res = usefulFitness(GAString(30))\n",
    "ans = -110.4321552444553\n",
    "assert np.isclose(ans,res)\n",
    "print(\"Sample test case passed\")"
   ]
  },
  {
   "cell_type": "code",
   "execution_count": 103,
   "metadata": {
    "deletable": false,
    "editable": false,
    "nbgrader": {
     "cell_type": "code",
     "checksum": "5bc682f5d0851da394adcf7ad7011677",
     "grade": true,
     "grade_id": "cell-d77d55c265995381",
     "locked": true,
     "points": 0.5,
     "schema_version": 3,
     "solution": false,
     "task": false
    }
   },
   "outputs": [],
   "source": [
    "# do not change code here\n",
    "# Hidden Test cases"
   ]
  },
  {
   "cell_type": "code",
   "execution_count": 104,
   "metadata": {
    "nbgrader": {
     "cell_type": "code",
     "checksum": "56541dce696940d70ecef5207e5a6fd9",
     "grade": false,
     "grade_id": "cell-c2ecb591535c1dd2",
     "locked": true,
     "schema_version": 3,
     "solution": false,
     "task": false
    },
    "scrolled": false
   },
   "outputs": [
    {
     "name": "stdout",
     "output_type": "stream",
     "text": [
      "Running actual use case\n"
     ]
    },
    {
     "data": {
      "image/png": "[encoded data removed]",
      "text/plain": [
       "<Figure size 432x288 with 1 Axes>"
      ]
     },
     "metadata": {
      "needs_background": "light"
     },
     "output_type": "display_data"
    },
    {
     "name": "stdout",
     "output_type": "stream",
     "text": [
      "Kp = 12.00000 | Ki = 7.00000 | Kd = 0.70000\n",
      "Chromosome = 110111100011101000110001100011\n",
      "Fitness = -15.10232249897005\n"
     ]
    },
    {
     "data": {
      "image/png": "[encoded data removed]",
      "text/plain": [
       "<Figure size 432x288 with 1 Axes>"
      ]
     },
     "metadata": {
      "needs_background": "light"
     },
     "output_type": "display_data"
    },
    {
     "name": "stdout",
     "output_type": "stream",
     "text": [
      "Kp = 12.00000 | Ki = 7.00000 | Kd = 0.70000\n",
      "Chromosome = 111101000011101000000110000010\n",
      "Fitness = -14.405199086644531\n"
     ]
    },
    {
     "data": {
      "image/png": "[encoded data removed]",
      "text/plain": [
       "<Figure size 432x288 with 1 Axes>"
      ]
     },
     "metadata": {
      "needs_background": "light"
     },
     "output_type": "display_data"
    },
    {
     "name": "stdout",
     "output_type": "stream",
     "text": [
      "Kp = 12.00000 | Ki = 7.00000 | Kd = 0.70000\n",
      "Chromosome = 110001010011000010100101000110\n",
      "Fitness = -11.786173235284494\n"
     ]
    },
    {
     "data": {
      "image/png": "[encoded data removed]",
      "text/plain": [
       "<Figure size 432x288 with 1 Axes>"
      ]
     },
     "metadata": {
      "needs_background": "light"
     },
     "output_type": "display_data"
    },
    {
     "name": "stdout",
     "output_type": "stream",
     "text": [
      "Kp = 12.00000 | Ki = 7.00000 | Kd = 0.70000\n",
      "Chromosome = 110001010011000010100101000110\n",
      "Fitness = -11.786173235284494\n"
     ]
    },
    {
     "data": {
      "image/png": "[encoded data removed]",
      "text/plain": [
       "<Figure size 432x288 with 1 Axes>"
      ]
     },
     "metadata": {
      "needs_background": "light"
     },
     "output_type": "display_data"
    },
    {
     "name": "stdout",
     "output_type": "stream",
     "text": [
      "Kp = 12.00000 | Ki = 7.00000 | Kd = 0.70000\n",
      "Chromosome = 110001010011000010100101000110\n",
      "Fitness = -11.786173235284494\n"
     ]
    },
    {
     "data": {
      "image/png": "[encoded data removed]",
      "text/plain": [
       "<Figure size 432x288 with 1 Axes>"
      ]
     },
     "metadata": {
      "needs_background": "light"
     },
     "output_type": "display_data"
    },
    {
     "name": "stdout",
     "output_type": "stream",
     "text": [
      "Kp = 12.00000 | Ki = 7.00000 | Kd = 0.70000\n",
      "Chromosome = 110001010011000010100101000110\n",
      "Fitness = -11.786173235284494\n"
     ]
    },
    {
     "data": {
      "image/png": "[encoded data removed]",
      "text/plain": [
       "<Figure size 432x288 with 1 Axes>"
      ]
     },
     "metadata": {
      "needs_background": "light"
     },
     "output_type": "display_data"
    },
    {
     "name": "stdout",
     "output_type": "stream",
     "text": [
      "Kp = 12.00000 | Ki = 7.00000 | Kd = 0.70000\n",
      "Chromosome = 110001010011000010100101000110\n",
      "Fitness = -11.786173235284494\n"
     ]
    },
    {
     "data": {
      "image/png": "[encoded data removed]",
      "text/plain": [
       "<Figure size 432x288 with 1 Axes>"
      ]
     },
     "metadata": {
      "needs_background": "light"
     },
     "output_type": "display_data"
    },
    {
     "name": "stdout",
     "output_type": "stream",
     "text": [
      "Kp = 12.00000 | Ki = 7.00000 | Kd = 0.70000\n",
      "Chromosome = 110001010011000010100101000110\n",
      "Fitness = -11.786173235284494\n"
     ]
    },
    {
     "data": {
      "image/png": "[encoded data removed]",
      "text/plain": [
       "<Figure size 432x288 with 1 Axes>"
      ]
     },
     "metadata": {
      "needs_background": "light"
     },
     "output_type": "display_data"
    },
    {
     "name": "stdout",
     "output_type": "stream",
     "text": [
      "Kp = 12.00000 | Ki = 7.00000 | Kd = 0.70000\n",
      "Chromosome = 110001010011000010100101000110\n",
      "Fitness = -11.786173235284494\n"
     ]
    },
    {
     "data": {
      "image/png": "[encoded data removed]",
      "text/plain": [
       "<Figure size 432x288 with 1 Axes>"
      ]
     },
     "metadata": {
      "needs_background": "light"
     },
     "output_type": "display_data"
    },
    {
     "name": "stdout",
     "output_type": "stream",
     "text": [
      "Kp = 12.00000 | Ki = 7.00000 | Kd = 0.70000\n",
      "Chromosome = 110001010011000010100101000110\n",
      "Fitness = -11.786173235284494\n"
     ]
    },
    {
     "data": {
      "image/png": "[encoded data removed]",
      "text/plain": [
       "<Figure size 432x288 with 1 Axes>"
      ]
     },
     "metadata": {
      "needs_background": "light"
     },
     "output_type": "display_data"
    },
    {
     "name": "stdout",
     "output_type": "stream",
     "text": [
      "Kp = 12.00000 | Ki = 7.00000 | Kd = 0.70000\n",
      "Chromosome = 110001010011000010100101000110\n",
      "Fitness = -11.786173235284494\n"
     ]
    },
    {
     "data": {
      "image/png": "[encoded data removed]",
      "text/plain": [
       "<Figure size 432x288 with 1 Axes>"
      ]
     },
     "metadata": {
      "needs_background": "light"
     },
     "output_type": "display_data"
    },
    {
     "name": "stdout",
     "output_type": "stream",
     "text": [
      "Kp = 12.00000 | Ki = 7.00000 | Kd = 0.70000\n",
      "Chromosome = 110001010011000010100101000110\n",
      "Fitness = -11.786173235284494\n"
     ]
    },
    {
     "data": {
      "image/png": "[encoded data removed]",
      "text/plain": [
       "<Figure size 432x288 with 1 Axes>"
      ]
     },
     "metadata": {
      "needs_background": "light"
     },
     "output_type": "display_data"
    },
    {
     "name": "stdout",
     "output_type": "stream",
     "text": [
      "Kp = 12.00000 | Ki = 7.00000 | Kd = 0.70000\n",
      "Chromosome = 110001010011000010100101000110\n",
      "Fitness = -11.786173235284494\n"
     ]
    },
    {
     "data": {
      "image/png": "[encoded data removed]",
      "text/plain": [
       "<Figure size 432x288 with 1 Axes>"
      ]
     },
     "metadata": {
      "needs_background": "light"
     },
     "output_type": "display_data"
    },
    {
     "name": "stdout",
     "output_type": "stream",
     "text": [
      "Kp = 12.00000 | Ki = 7.00000 | Kd = 0.70000\n",
      "Chromosome = 110001010011000010100101000110\n",
      "Fitness = -11.786173235284494\n"
     ]
    },
    {
     "data": {
      "image/png": "[encoded data removed]",
      "text/plain": [
       "<Figure size 432x288 with 1 Axes>"
      ]
     },
     "metadata": {
      "needs_background": "light"
     },
     "output_type": "display_data"
    },
    {
     "name": "stdout",
     "output_type": "stream",
     "text": [
      "Kp = 12.00000 | Ki = 7.00000 | Kd = 0.70000\n",
      "Chromosome = 110001010011000010100101000110\n",
      "Fitness = -11.786173235284494\n"
     ]
    },
    {
     "data": {
      "image/png": "[encoded data removed]",
      "text/plain": [
       "<Figure size 432x288 with 1 Axes>"
      ]
     },
     "metadata": {
      "needs_background": "light"
     },
     "output_type": "display_data"
    },
    {
     "name": "stdout",
     "output_type": "stream",
     "text": [
      "Kp = 12.00000 | Ki = 7.00000 | Kd = 0.70000\n",
      "Chromosome = 111111111011111001010010100001\n",
      "Fitness = -9.007221207423246\n"
     ]
    },
    {
     "data": {
      "image/png": "[encoded data removed]",
      "text/plain": [
       "<Figure size 432x288 with 1 Axes>"
      ]
     },
     "metadata": {
      "needs_background": "light"
     },
     "output_type": "display_data"
    },
    {
     "name": "stdout",
     "output_type": "stream",
     "text": [
      "Kp = 12.00000 | Ki = 7.00000 | Kd = 0.70000\n",
      "Chromosome = 111111111011100101010001011101\n",
      "Fitness = -22.63293661765118\n"
     ]
    },
    {
     "data": {
      "image/png": "[encoded data removed]",
      "text/plain": [
       "<Figure size 432x288 with 1 Axes>"
      ]
     },
     "metadata": {
      "needs_background": "light"
     },
     "output_type": "display_data"
    },
    {
     "name": "stdout",
     "output_type": "stream",
     "text": [
      "Kp = 12.00000 | Ki = 7.00000 | Kd = 0.70000\n",
      "Chromosome = 111000011011100101010000111101\n",
      "Fitness = -9.51865278833727\n"
     ]
    },
    {
     "data": {
      "image/png": "[encoded data removed]",
      "text/plain": [
       "<Figure size 432x288 with 1 Axes>"
      ]
     },
     "metadata": {
      "needs_background": "light"
     },
     "output_type": "display_data"
    },
    {
     "name": "stdout",
     "output_type": "stream",
     "text": [
      "Kp = 12.00000 | Ki = 7.00000 | Kd = 0.70000\n",
      "Chromosome = 111111111011111010110011000001\n",
      "Fitness = -8.127978117705444\n"
     ]
    },
    {
     "data": {
      "image/png": "[encoded data removed]",
      "text/plain": [
       "<Figure size 432x288 with 1 Axes>"
      ]
     },
     "metadata": {
      "needs_background": "light"
     },
     "output_type": "display_data"
    },
    {
     "name": "stdout",
     "output_type": "stream",
     "text": [
      "Kp = 12.00000 | Ki = 7.00000 | Kd = 0.70000\n",
      "Chromosome = 111111111011111110110011000001\n",
      "Fitness = -6.079596192581269\n"
     ]
    },
    {
     "data": {
      "image/png": "[encoded data removed]",
      "text/plain": [
       "<Figure size 432x288 with 1 Axes>"
      ]
     },
     "metadata": {
      "needs_background": "light"
     },
     "output_type": "display_data"
    },
    {
     "name": "stdout",
     "output_type": "stream",
     "text": [
      "Kp = 12.00000 | Ki = 7.00000 | Kd = 0.70000\n",
      "Chromosome = 111111110111111101010000000100\n",
      "Fitness = -6.178575503456809\n"
     ]
    }
   ],
   "source": [
    "#playground\n",
    "random.seed(9000)\n",
    "print(\"Running actual use case\")\n",
    "\n",
    "reference = np.load('reference.npy')\n",
    "K = 2\n",
    "tau_p = 2\n",
    "\n",
    "def show_graph(Kp, Ki, Kd):\n",
    "    dynamics = pid_velocity(Kp, Ki, Kd, reference, K, tau_p, Ti, Tf, Fs)\n",
    "    t = np.arange(Ti,Tf,Ts)\n",
    "    fig = plt.figure()\n",
    "    ax = plt.subplot(111)\n",
    "    ax.plot(t,dynamics,'b-',\n",
    "            t,reference[:-1],'r--')\n",
    "    plt.show()\n",
    "\n",
    "pop = initPop(40,30)# here number of genes >=30 as 10 bits are required for each of Kp,Ki,Kd\n",
    "f = usefulFitness\n",
    "s0 = 40\n",
    "s1 = 2\n",
    "s2 = 32\n",
    "s = selectionTournament\n",
    "c = crossoverTwoPoint\n",
    "m = mutationInversion\n",
    "\n",
    "for i in range(20):\n",
    "    fit, dude = getBestDude(pop,f)\n",
    "    \n",
    "    ### blanks\n",
    "    Kp = 12\n",
    "    Ki = 7\n",
    "    Kd = 0.7\n",
    "    \n",
    "    show_graph(Kp,Ki,Kd)\n",
    "    print(f\"Kp = {Kp:.5f} | Ki = {Ki:.5f} | Kd = {Kd:.5f}\")\n",
    "    print(f\"Chromosome = {dude}\\nFitness = {fit}\")\n",
    "    \n",
    "    pop = singleIteration(pop,f,s0,s1,s2,s,c,m)\n",
    "\n",
    "fit, dude = getBestDude(pop,f)\n",
    "show_graph(Kp,Ki,Kd)\n",
    "print(f\"Kp = {Kp:.5f} | Ki = {Ki:.5f} | Kd = {Kd:.5f}\")\n",
    "print(f\"Chromosome = {dude}\\nFitness = {fit}\")"
   ]
  },
  {
   "cell_type": "markdown",
   "metadata": {
    "deletable": false,
    "editable": false,
    "nbgrader": {
     "cell_type": "markdown",
     "checksum": "807adbe8a2f801cd46f6678125c14fa0",
     "grade": false,
     "grade_id": "cell-3cb86d82ffdaad8c",
     "locked": true,
     "schema_version": 3,
     "solution": false,
     "task": false
    }
   },
   "source": [
    "Fin."
   ]
  }
 ],
 "metadata": {
  "kernelspec": {
   "display_name": "Python 3",
   "language": "python",
   "name": "python3"
  },
  "language_info": {
   "codemirror_mode": {
    "name": "ipython",
    "version": 3
   },
   "file_extension": ".py",
   "mimetype": "text/x-python",
   "name": "python",
   "nbconvert_exporter": "python",
   "pygments_lexer": "ipython3",
   "version": "3.7.3"
  }
 },
 "nbformat": 4,
 "nbformat_minor": 2
}
